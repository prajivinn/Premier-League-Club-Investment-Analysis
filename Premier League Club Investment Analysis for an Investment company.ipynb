{
 "cells": [
  {
   "cell_type": "markdown",
   "id": "79ab7c84",
   "metadata": {},
   "source": [
    "# Project Overview\n",
    "\n",
    "A renowned investment firm usually invest in top-tier sports teams that have potential. The dataset in their possession comprises crucial information about all the clubs that have participated in premier league (assume that it has the data for all clubs). It includes data on the number of goals scored, the number of times they have finished in the top two positions and other relevant details.\n",
    "\n",
    "The management of the firm aims to invest in one of the top-performing club in the English Premier League. To aid in their decision-making process, the analytics department has been tasked with creating a comprehensive report on the performance of various clubs. However, some of the more established clubs have already been owned by the competitors. As a result, the firm wishes to identify the clubs they can approach and potentially invest to ensure a successful and profitable deal."
   ]
  },
  {
   "cell_type": "code",
   "execution_count": 1,
   "id": "da23eb64",
   "metadata": {},
   "outputs": [],
   "source": [
    "# Import Libraries for data cleaning & data analysis\n",
    "\n",
    "import numpy as np \n",
    "import pandas as pd"
   ]
  },
  {
   "cell_type": "code",
   "execution_count": 2,
   "id": "74e41232",
   "metadata": {},
   "outputs": [
    {
     "name": "stdout",
     "output_type": "stream",
     "text": [
      "/Users/praju/Desktop/DADUO/did by me\n"
     ]
    }
   ],
   "source": [
    "import os\n",
    "working_directory = os.getcwd()\n",
    "print(working_directory)"
   ]
  },
  {
   "cell_type": "code",
   "execution_count": 3,
   "id": "952415a1",
   "metadata": {},
   "outputs": [],
   "source": [
    "df = pd.read_csv(r'/Users/Praju/Desktop/DADUO/did by me/Premier_League_Final_Data_batch2.csv')"
   ]
  },
  {
   "cell_type": "code",
   "execution_count": 4,
   "id": "281f3ab7",
   "metadata": {},
   "outputs": [
    {
     "data": {
      "text/html": [
       "<div>\n",
       "<style scoped>\n",
       "    .dataframe tbody tr th:only-of-type {\n",
       "        vertical-align: middle;\n",
       "    }\n",
       "\n",
       "    .dataframe tbody tr th {\n",
       "        vertical-align: top;\n",
       "    }\n",
       "\n",
       "    .dataframe thead th {\n",
       "        text-align: right;\n",
       "    }\n",
       "</style>\n",
       "<table border=\"1\" class=\"dataframe\">\n",
       "  <thead>\n",
       "    <tr style=\"text-align: right;\">\n",
       "      <th></th>\n",
       "      <th>Club</th>\n",
       "      <th>Matches Played</th>\n",
       "      <th>Win</th>\n",
       "      <th>Loss</th>\n",
       "      <th>Drawn</th>\n",
       "      <th>Goals</th>\n",
       "      <th>Clean Sheets</th>\n",
       "      <th>TeamLaunch</th>\n",
       "      <th>Winners</th>\n",
       "      <th>Runners-up</th>\n",
       "      <th>lastplayed_pl</th>\n",
       "    </tr>\n",
       "  </thead>\n",
       "  <tbody>\n",
       "    <tr>\n",
       "      <th>0</th>\n",
       "      <td>1Arsenal</td>\n",
       "      <td>1182</td>\n",
       "      <td>642</td>\n",
       "      <td>252</td>\n",
       "      <td>288</td>\n",
       "      <td>2089</td>\n",
       "      <td>448</td>\n",
       "      <td>1886</td>\n",
       "      <td>3.0</td>\n",
       "      <td>6</td>\n",
       "      <td>Apr-23</td>\n",
       "    </tr>\n",
       "    <tr>\n",
       "      <th>1</th>\n",
       "      <td>2Aston Villa</td>\n",
       "      <td>1062</td>\n",
       "      <td>368</td>\n",
       "      <td>399</td>\n",
       "      <td>295</td>\n",
       "      <td>1306</td>\n",
       "      <td>311</td>\n",
       "      <td>1874</td>\n",
       "      <td>0.0</td>\n",
       "      <td>1</td>\n",
       "      <td>Apr-23</td>\n",
       "    </tr>\n",
       "    <tr>\n",
       "      <th>2</th>\n",
       "      <td>3Birmingham City</td>\n",
       "      <td>266</td>\n",
       "      <td>73</td>\n",
       "      <td>111</td>\n",
       "      <td>82</td>\n",
       "      <td>273</td>\n",
       "      <td>66</td>\n",
       "      <td>1875</td>\n",
       "      <td>0.0</td>\n",
       "      <td>NaN</td>\n",
       "      <td>May-11</td>\n",
       "    </tr>\n",
       "    <tr>\n",
       "      <th>3</th>\n",
       "      <td>4Blackburn Rovers</td>\n",
       "      <td>696</td>\n",
       "      <td>262</td>\n",
       "      <td>250</td>\n",
       "      <td>184</td>\n",
       "      <td>927</td>\n",
       "      <td>210</td>\n",
       "      <td>1875</td>\n",
       "      <td>1.0</td>\n",
       "      <td>1</td>\n",
       "      <td>May-12</td>\n",
       "    </tr>\n",
       "    <tr>\n",
       "      <th>4</th>\n",
       "      <td>5Bolton Wanderers</td>\n",
       "      <td>494</td>\n",
       "      <td>149</td>\n",
       "      <td>217</td>\n",
       "      <td>128</td>\n",
       "      <td>575</td>\n",
       "      <td>108</td>\n",
       "      <td>1874</td>\n",
       "      <td>0.0</td>\n",
       "      <td>0</td>\n",
       "      <td>May-12</td>\n",
       "    </tr>\n",
       "  </tbody>\n",
       "</table>\n",
       "</div>"
      ],
      "text/plain": [
       "                Club  Matches Played  Win  Loss  Drawn  Goals  Clean Sheets  \\\n",
       "0           1Arsenal            1182  642   252    288   2089           448   \n",
       "1       2Aston Villa            1062  368   399    295   1306           311   \n",
       "2   3Birmingham City             266   73   111     82    273            66   \n",
       "3  4Blackburn Rovers             696  262   250    184    927           210   \n",
       "4  5Bolton Wanderers             494  149   217    128    575           108   \n",
       "\n",
       "  TeamLaunch  Winners Runners-up lastplayed_pl  \n",
       "0       1886      3.0          6        Apr-23  \n",
       "1       1874      0.0          1        Apr-23  \n",
       "2       1875      0.0        NaN        May-11  \n",
       "3       1875      1.0          1        May-12  \n",
       "4       1874      0.0          0        May-12  "
      ]
     },
     "execution_count": 4,
     "metadata": {},
     "output_type": "execute_result"
    }
   ],
   "source": [
    "df.head()"
   ]
  },
  {
   "cell_type": "markdown",
   "id": "3aaf2a19",
   "metadata": {},
   "source": [
    "\n",
    "* Club: Name of the football club\n",
    "* Matches: Number of matches the club has played in the Premier League\n",
    "* Wins: Number of matches won by the club in the Premier League\n",
    "* Loss: Number of matches lost by the club in the Premier League\n",
    "* Goals: Number of Goals scored by each player in the Premier League\n",
    "* Draws: Number of matches drawn by the club in the Premier League\n",
    "* Clean Sheets: Number of matches in which the club has prevented the opposing side from scoring\n",
    "* Team Launch: Year in which the club was founded\n",
    "* Winners: Number of times the club has won the Premier League\n",
    "* Runners-up: Number of times the club has finished as runners-up in the Premier League\n",
    "* lastplayed_pl: Year in which the team last played in the Premier League"
   ]
  },
  {
   "cell_type": "markdown",
   "id": "985a5e24",
   "metadata": {},
   "source": [
    "Upon examining the dataset, we note that it consists of 11 columns, with the first column containing the club name and the remaining 10 columns providing information on the club's performance in the Premier League. However, the data is not entirely clean. The club column has numerical values attached to it, likely indicating a serial number, and the runners-up column has null values.\n",
    "\n",
    "Let us further analyze the dataset:"
   ]
  },
  {
   "cell_type": "code",
   "execution_count": 5,
   "id": "7fa81cec",
   "metadata": {},
   "outputs": [
    {
     "data": {
      "text/html": [
       "<div>\n",
       "<style scoped>\n",
       "    .dataframe tbody tr th:only-of-type {\n",
       "        vertical-align: middle;\n",
       "    }\n",
       "\n",
       "    .dataframe tbody tr th {\n",
       "        vertical-align: top;\n",
       "    }\n",
       "\n",
       "    .dataframe thead th {\n",
       "        text-align: right;\n",
       "    }\n",
       "</style>\n",
       "<table border=\"1\" class=\"dataframe\">\n",
       "  <thead>\n",
       "    <tr style=\"text-align: right;\">\n",
       "      <th></th>\n",
       "      <th>Club</th>\n",
       "      <th>Matches Played</th>\n",
       "      <th>Win</th>\n",
       "      <th>Loss</th>\n",
       "      <th>Drawn</th>\n",
       "      <th>Goals</th>\n",
       "      <th>Clean Sheets</th>\n",
       "      <th>TeamLaunch</th>\n",
       "      <th>Winners</th>\n",
       "      <th>Runners-up</th>\n",
       "      <th>lastplayed_pl</th>\n",
       "    </tr>\n",
       "  </thead>\n",
       "  <tbody>\n",
       "    <tr>\n",
       "      <th>35</th>\n",
       "      <td>36West Bromwich Albion</td>\n",
       "      <td>494</td>\n",
       "      <td>117</td>\n",
       "      <td>238</td>\n",
       "      <td>139</td>\n",
       "      <td>510</td>\n",
       "      <td>107</td>\n",
       "      <td>1878</td>\n",
       "      <td>NaN</td>\n",
       "      <td>0</td>\n",
       "      <td>Apr-18</td>\n",
       "    </tr>\n",
       "    <tr>\n",
       "      <th>36</th>\n",
       "      <td>37West Ham United</td>\n",
       "      <td>1025</td>\n",
       "      <td>343</td>\n",
       "      <td>423</td>\n",
       "      <td>259</td>\n",
       "      <td>1262</td>\n",
       "      <td>266</td>\n",
       "      <td>1895</td>\n",
       "      <td>NaN</td>\n",
       "      <td>0</td>\n",
       "      <td>Apr-23</td>\n",
       "    </tr>\n",
       "    <tr>\n",
       "      <th>37</th>\n",
       "      <td>38Wigan Athletic</td>\n",
       "      <td>304</td>\n",
       "      <td>85</td>\n",
       "      <td>143</td>\n",
       "      <td>76</td>\n",
       "      <td>316</td>\n",
       "      <td>73</td>\n",
       "      <td>1932</td>\n",
       "      <td>NaN</td>\n",
       "      <td>0</td>\n",
       "      <td>Apr-13</td>\n",
       "    </tr>\n",
       "    <tr>\n",
       "      <th>38</th>\n",
       "      <td>39Wolverhampton Wanderers</td>\n",
       "      <td>334</td>\n",
       "      <td>98</td>\n",
       "      <td>151</td>\n",
       "      <td>85</td>\n",
       "      <td>353</td>\n",
       "      <td>75</td>\n",
       "      <td>1877</td>\n",
       "      <td>0.0</td>\n",
       "      <td>0</td>\n",
       "      <td>Apr-23</td>\n",
       "    </tr>\n",
       "    <tr>\n",
       "      <th>39</th>\n",
       "      <td>40Portsmouth</td>\n",
       "      <td>266</td>\n",
       "      <td>79</td>\n",
       "      <td>122</td>\n",
       "      <td>65</td>\n",
       "      <td>292</td>\n",
       "      <td>61</td>\n",
       "      <td>April 1898</td>\n",
       "      <td>NaN</td>\n",
       "      <td>NaN</td>\n",
       "      <td>Apr-10</td>\n",
       "    </tr>\n",
       "  </tbody>\n",
       "</table>\n",
       "</div>"
      ],
      "text/plain": [
       "                         Club  Matches Played  Win  Loss  Drawn  Goals  \\\n",
       "35     36West Bromwich Albion             494  117   238    139    510   \n",
       "36          37West Ham United            1025  343   423    259   1262   \n",
       "37           38Wigan Athletic             304   85   143     76    316   \n",
       "38  39Wolverhampton Wanderers             334   98   151     85    353   \n",
       "39               40Portsmouth             266   79   122     65    292   \n",
       "\n",
       "    Clean Sheets  TeamLaunch  Winners Runners-up lastplayed_pl  \n",
       "35           107        1878      NaN          0        Apr-18  \n",
       "36           266        1895      NaN          0        Apr-23  \n",
       "37            73        1932      NaN          0        Apr-13  \n",
       "38            75        1877      0.0          0        Apr-23  \n",
       "39            61  April 1898      NaN        NaN        Apr-10  "
      ]
     },
     "execution_count": 5,
     "metadata": {},
     "output_type": "execute_result"
    }
   ],
   "source": [
    "df.tail()"
   ]
  },
  {
   "cell_type": "markdown",
   "id": "b9c3c4af",
   "metadata": {},
   "source": [
    "We notice inconsistencies in the TeamLaunch column. While most clubs have a year mentioned, one club has a month & year mentioned instead. This inconsistency may cause problems in the analysis, and the column should be cleaned. Furthermore, we observe that there are null values in the Winners column."
   ]
  },
  {
   "cell_type": "code",
   "execution_count": 6,
   "id": "e7e7c201",
   "metadata": {},
   "outputs": [
    {
     "data": {
      "text/plain": [
       "(40, 11)"
      ]
     },
     "execution_count": 6,
     "metadata": {},
     "output_type": "execute_result"
    }
   ],
   "source": [
    "df.shape"
   ]
  },
  {
   "cell_type": "markdown",
   "id": "d0003375",
   "metadata": {},
   "source": [
    "There is 40 rows and 11 columns in the dataframe."
   ]
  },
  {
   "cell_type": "code",
   "execution_count": 7,
   "id": "f60f2ee4",
   "metadata": {},
   "outputs": [
    {
     "name": "stdout",
     "output_type": "stream",
     "text": [
      "<class 'pandas.core.frame.DataFrame'>\n",
      "RangeIndex: 40 entries, 0 to 39\n",
      "Data columns (total 11 columns):\n",
      " #   Column          Non-Null Count  Dtype  \n",
      "---  ------          --------------  -----  \n",
      " 0   Club            40 non-null     object \n",
      " 1   Matches Played  40 non-null     int64  \n",
      " 2   Win             40 non-null     int64  \n",
      " 3   Loss            40 non-null     int64  \n",
      " 4   Drawn           40 non-null     int64  \n",
      " 5   Goals           40 non-null     int64  \n",
      " 6   Clean Sheets    40 non-null     int64  \n",
      " 7   TeamLaunch      40 non-null     object \n",
      " 8   Winners         25 non-null     float64\n",
      " 9   Runners-up      22 non-null     object \n",
      " 10  lastplayed_pl   40 non-null     object \n",
      "dtypes: float64(1), int64(6), object(4)\n",
      "memory usage: 3.6+ KB\n"
     ]
    }
   ],
   "source": [
    "# Get more information about datatypes and null values in the dataframe\n",
    "\n",
    "df.info()"
   ]
  },
  {
   "cell_type": "markdown",
   "id": "38d165be",
   "metadata": {},
   "source": [
    "There are 40 non-null values in each column, indicating that there are no missing values. However, there are null values in the 'Winners' and 'Runners-up' columns as observed earlier. \n",
    "\n",
    "We also notice that the data type for the \"Runners-up\" column is non-numeric (i.e., object type). To perform any numerical analysis on this column, we will need to convert it to a numeric data type."
   ]
  },
  {
   "cell_type": "code",
   "execution_count": 8,
   "id": "bafa3212",
   "metadata": {},
   "outputs": [
    {
     "name": "stderr",
     "output_type": "stream",
     "text": [
      "<ipython-input-8-a7225beb5aa7>:3: FutureWarning: The default value of regex will change from True to False in a future version.\n",
      "  df['Club']=df['Club'].str.replace('\\d+','')\n"
     ]
    }
   ],
   "source": [
    "# Let us first start with Club column\n",
    "\n",
    "df['Club']=df['Club'].str.replace('\\d+','')\n",
    "\n",
    "# In this code, '\\d+' is a regular expression pattern that matches one or more digits at the start of the string. \n",
    "# The str.replace() method replaces this pattern with an empty string, \n",
    "# effectively removing the numbers from the front of each team name in the \"Club\" column. "
   ]
  },
  {
   "cell_type": "code",
   "execution_count": 9,
   "id": "d60fe119",
   "metadata": {},
   "outputs": [
    {
     "data": {
      "text/html": [
       "<div>\n",
       "<style scoped>\n",
       "    .dataframe tbody tr th:only-of-type {\n",
       "        vertical-align: middle;\n",
       "    }\n",
       "\n",
       "    .dataframe tbody tr th {\n",
       "        vertical-align: top;\n",
       "    }\n",
       "\n",
       "    .dataframe thead th {\n",
       "        text-align: right;\n",
       "    }\n",
       "</style>\n",
       "<table border=\"1\" class=\"dataframe\">\n",
       "  <thead>\n",
       "    <tr style=\"text-align: right;\">\n",
       "      <th></th>\n",
       "      <th>Club</th>\n",
       "      <th>Matches Played</th>\n",
       "      <th>Win</th>\n",
       "      <th>Loss</th>\n",
       "      <th>Drawn</th>\n",
       "      <th>Goals</th>\n",
       "      <th>Clean Sheets</th>\n",
       "      <th>TeamLaunch</th>\n",
       "      <th>Winners</th>\n",
       "      <th>Runners-up</th>\n",
       "      <th>lastplayed_pl</th>\n",
       "    </tr>\n",
       "  </thead>\n",
       "  <tbody>\n",
       "    <tr>\n",
       "      <th>0</th>\n",
       "      <td>Arsenal</td>\n",
       "      <td>1182</td>\n",
       "      <td>642</td>\n",
       "      <td>252</td>\n",
       "      <td>288</td>\n",
       "      <td>2089</td>\n",
       "      <td>448</td>\n",
       "      <td>1886</td>\n",
       "      <td>3.0</td>\n",
       "      <td>6</td>\n",
       "      <td>Apr-23</td>\n",
       "    </tr>\n",
       "    <tr>\n",
       "      <th>1</th>\n",
       "      <td>Aston Villa</td>\n",
       "      <td>1062</td>\n",
       "      <td>368</td>\n",
       "      <td>399</td>\n",
       "      <td>295</td>\n",
       "      <td>1306</td>\n",
       "      <td>311</td>\n",
       "      <td>1874</td>\n",
       "      <td>0.0</td>\n",
       "      <td>1</td>\n",
       "      <td>Apr-23</td>\n",
       "    </tr>\n",
       "    <tr>\n",
       "      <th>2</th>\n",
       "      <td>Birmingham City</td>\n",
       "      <td>266</td>\n",
       "      <td>73</td>\n",
       "      <td>111</td>\n",
       "      <td>82</td>\n",
       "      <td>273</td>\n",
       "      <td>66</td>\n",
       "      <td>1875</td>\n",
       "      <td>0.0</td>\n",
       "      <td>NaN</td>\n",
       "      <td>May-11</td>\n",
       "    </tr>\n",
       "    <tr>\n",
       "      <th>3</th>\n",
       "      <td>Blackburn Rovers</td>\n",
       "      <td>696</td>\n",
       "      <td>262</td>\n",
       "      <td>250</td>\n",
       "      <td>184</td>\n",
       "      <td>927</td>\n",
       "      <td>210</td>\n",
       "      <td>1875</td>\n",
       "      <td>1.0</td>\n",
       "      <td>1</td>\n",
       "      <td>May-12</td>\n",
       "    </tr>\n",
       "    <tr>\n",
       "      <th>4</th>\n",
       "      <td>Bolton Wanderers</td>\n",
       "      <td>494</td>\n",
       "      <td>149</td>\n",
       "      <td>217</td>\n",
       "      <td>128</td>\n",
       "      <td>575</td>\n",
       "      <td>108</td>\n",
       "      <td>1874</td>\n",
       "      <td>0.0</td>\n",
       "      <td>0</td>\n",
       "      <td>May-12</td>\n",
       "    </tr>\n",
       "  </tbody>\n",
       "</table>\n",
       "</div>"
      ],
      "text/plain": [
       "               Club  Matches Played  Win  Loss  Drawn  Goals  Clean Sheets  \\\n",
       "0           Arsenal            1182  642   252    288   2089           448   \n",
       "1       Aston Villa            1062  368   399    295   1306           311   \n",
       "2   Birmingham City             266   73   111     82    273            66   \n",
       "3  Blackburn Rovers             696  262   250    184    927           210   \n",
       "4  Bolton Wanderers             494  149   217    128    575           108   \n",
       "\n",
       "  TeamLaunch  Winners Runners-up lastplayed_pl  \n",
       "0       1886      3.0          6        Apr-23  \n",
       "1       1874      0.0          1        Apr-23  \n",
       "2       1875      0.0        NaN        May-11  \n",
       "3       1875      1.0          1        May-12  \n",
       "4       1874      0.0          0        May-12  "
      ]
     },
     "execution_count": 9,
     "metadata": {},
     "output_type": "execute_result"
    }
   ],
   "source": [
    "df.head()"
   ]
  },
  {
   "cell_type": "code",
   "execution_count": 10,
   "id": "f86b47f6",
   "metadata": {},
   "outputs": [
    {
     "data": {
      "text/plain": [
       "0     False\n",
       "1     False\n",
       "2     False\n",
       "3     False\n",
       "4     False\n",
       "5     False\n",
       "6     False\n",
       "7     False\n",
       "8     False\n",
       "9     False\n",
       "10    False\n",
       "11    False\n",
       "12    False\n",
       "13    False\n",
       "14    False\n",
       "15    False\n",
       "16    False\n",
       "17    False\n",
       "18    False\n",
       "19    False\n",
       "20    False\n",
       "21    False\n",
       "22    False\n",
       "23    False\n",
       "24     True\n",
       "25     True\n",
       "26     True\n",
       "27     True\n",
       "28     True\n",
       "29     True\n",
       "30     True\n",
       "31     True\n",
       "32     True\n",
       "33     True\n",
       "34     True\n",
       "35     True\n",
       "36     True\n",
       "37     True\n",
       "38    False\n",
       "39     True\n",
       "Name: Winners, dtype: bool"
      ]
     },
     "execution_count": 10,
     "metadata": {},
     "output_type": "execute_result"
    }
   ],
   "source": [
    "df[\"Winners\"].isnull()"
   ]
  },
  {
   "cell_type": "code",
   "execution_count": 11,
   "id": "d485af8b",
   "metadata": {},
   "outputs": [
    {
     "data": {
      "text/plain": [
       "True"
      ]
     },
     "execution_count": 11,
     "metadata": {},
     "output_type": "execute_result"
    }
   ],
   "source": [
    "# Next, let us look at \"Winners\" column. Check if there is null value in a alternative way\n",
    "df[\"Winners\"].isnull().any()\n",
    "\n",
    "# In this code, the isnull() method is called on the \"Winners\" column of the DataFrame.\n",
    "# isnull() returns a boolean Series where each element indicates whether the corresponding value in the column is null (True) or not (False). \n",
    "# The any() method is then used to check if there is at least one True value in the Series, indicating the presence of null values in the \"Winners\" column."
   ]
  },
  {
   "cell_type": "code",
   "execution_count": 12,
   "id": "693b818e",
   "metadata": {},
   "outputs": [
    {
     "data": {
      "text/plain": [
       "0.0     18\n",
       "1.0      3\n",
       "3.0      1\n",
       "13.0     1\n",
       "5.0      1\n",
       "6.0      1\n",
       "Name: Winners, dtype: int64"
      ]
     },
     "execution_count": 12,
     "metadata": {},
     "output_type": "execute_result"
    }
   ],
   "source": [
    "df['Winners'].value_counts()\n",
    "# The code returns the count of unique values in the \"Winners\" column and the number of times each value occurs."
   ]
  },
  {
   "cell_type": "markdown",
   "id": "77af014c",
   "metadata": {},
   "source": [
    "Upon inspecting the dataset, it can be observed that there are a total of 25 non-null values. Furthermore, it is noteworthy that out of the 18 football clubs listed, none of them have won the Premier League title, as the \"Winners\" column displays a count of 0 for each club. \n",
    "\n",
    "After looking at the counts, it has been determined that there have been a total of 30 Premier League tournaments held in the past (1992-2022 per year one tournament). Out of the 25 football clubs (Non zero non nulls in winner columns) listed in the dataset, 3 clubs have won the Premier League title once, 1 club has won it thrice, 1 club has won it 5 times, another club has won it 6 times, and 1 club has won it a remarkable 13 times, totaling to 30 victories. \n",
    "\n",
    "This implies that all other clubs in the dataset have not won any Premier League matches. Therefore, it would be appropriate to update the \"Winners\" column by replacing the null values with 0, as these clubs have not won the Premier League title. This data cleaning step will ensure that the dataset accurately reflects the historical performance of each club in terms of Premier League wins."
   ]
  },
  {
   "cell_type": "code",
   "execution_count": 13,
   "id": "40b7947c",
   "metadata": {},
   "outputs": [],
   "source": [
    "# Replace null values with 0 in the \"Winners\" column\n",
    "df[\"Winners\"].fillna(0,inplace=True)\n",
    "\n",
    "# .fillna(0, inplace=True) This is a method in pandas that is used to fill missing (null) values in a Series or DataFrame. \n",
    "# In this case, it is applied to the \"Winners\" column of the DataFrame df to fill any null values with the value 0."
   ]
  },
  {
   "cell_type": "code",
   "execution_count": 14,
   "id": "e8a4b24c",
   "metadata": {},
   "outputs": [
    {
     "data": {
      "text/plain": [
       "False"
      ]
     },
     "execution_count": 14,
     "metadata": {},
     "output_type": "execute_result"
    }
   ],
   "source": [
    "df['Winners'].isnull().any()"
   ]
  },
  {
   "cell_type": "code",
   "execution_count": 15,
   "id": "92bc96c8",
   "metadata": {},
   "outputs": [
    {
     "data": {
      "text/plain": [
       "0.0     33\n",
       "1.0      3\n",
       "3.0      1\n",
       "13.0     1\n",
       "5.0      1\n",
       "6.0      1\n",
       "Name: Winners, dtype: int64"
      ]
     },
     "execution_count": 15,
     "metadata": {},
     "output_type": "execute_result"
    }
   ],
   "source": [
    "df['Winners'].value_counts()"
   ]
  },
  {
   "cell_type": "code",
   "execution_count": 16,
   "id": "652fccbe",
   "metadata": {},
   "outputs": [
    {
     "data": {
      "text/plain": [
       "0    10\n",
       "-     3\n",
       "1     3\n",
       "3     1\n",
       "7     1\n",
       "5     1\n",
       "6     1\n",
       "4     1\n",
       "2     1\n",
       "Name: Runners-up, dtype: int64"
      ]
     },
     "execution_count": 16,
     "metadata": {},
     "output_type": "execute_result"
    }
   ],
   "source": [
    "# Next, let is look at Runners-up, As seen earlier even this column has Null value\n",
    "\n",
    "df['Runners-up'].value_counts()"
   ]
  },
  {
   "cell_type": "markdown",
   "id": "8587ba51",
   "metadata": {},
   "source": [
    "Teams have different numbers of runner-up finishes. One team has finished as runner-up 7 times, another 6 times, one team 5 times, another 4 times, another 3 times, one team 2 times and three teams have finished as runner-up once each.\n",
    "We also notice some inconsistency in data,this column particularly has null values, 0's and '-' We need to clean"
   ]
  },
  {
   "cell_type": "code",
   "execution_count": 17,
   "id": "74db1216",
   "metadata": {},
   "outputs": [
    {
     "data": {
      "text/plain": [
       "30"
      ]
     },
     "execution_count": 17,
     "metadata": {},
     "output_type": "execute_result"
    }
   ],
   "source": [
    "# No. of runner-ups\n",
    "1+1+1+6+4+5+3+7+2"
   ]
  },
  {
   "cell_type": "markdown",
   "id": "949a25cc",
   "metadata": {},
   "source": [
    "Since we know the no. of times Premier League was conducted is 30 and we have data for all we will convert the null & '-' to 0 for all other clubs"
   ]
  },
  {
   "cell_type": "code",
   "execution_count": 18,
   "id": "12aca799",
   "metadata": {},
   "outputs": [],
   "source": [
    "# replace '-' and null values with zero\n",
    "df['Runners-up'].fillna(0, inplace=True)\n",
    "df['Runners-up'].replace('-', 0, inplace=True)\n",
    "\n",
    "# replace() method is used to replace the \"-\" values with zero. The inplace=True argument is used to modify the original dataframe."
   ]
  },
  {
   "cell_type": "code",
   "execution_count": 19,
   "id": "634c2a4c",
   "metadata": {},
   "outputs": [],
   "source": [
    "# Also we have seen it earlier that 'Runners-up' column is \"Object\" type let us convert it into int type\n",
    "df['Runners-up'] = pd.to_numeric(df['Runners-up'], errors='coerce')\n",
    "df['Runners-up'] = df['Runners-up'].astype('Int64')"
   ]
  },
  {
   "cell_type": "markdown",
   "id": "331b9e87",
   "metadata": {},
   "source": [
    "This code is converting the \"Runners-up\" column in a pandas DataFrame, df, from an \"Object\" data type to an \"Int64\" data type.\n",
    "\n",
    "The first line uses the pd.to_numeric() function to attempt to convert the \"Runners-up\" column to a numeric data type. The errors='coerce' argument tells the function to replace any values that cannot be converted to a number with NaN.\n",
    "\n",
    "The second line uses the .astype() method to convert the \"Runners-up\" column to an \"Int64\" data type. The .astype() method is called on the \"Runners-up\" column of the DataFrame, and the argument \"Int64\" specifies the desired data type."
   ]
  },
  {
   "cell_type": "code",
   "execution_count": 20,
   "id": "4fa49449",
   "metadata": {},
   "outputs": [
    {
     "name": "stdout",
     "output_type": "stream",
     "text": [
      "<class 'pandas.core.frame.DataFrame'>\n",
      "RangeIndex: 40 entries, 0 to 39\n",
      "Data columns (total 11 columns):\n",
      " #   Column          Non-Null Count  Dtype  \n",
      "---  ------          --------------  -----  \n",
      " 0   Club            40 non-null     object \n",
      " 1   Matches Played  40 non-null     int64  \n",
      " 2   Win             40 non-null     int64  \n",
      " 3   Loss            40 non-null     int64  \n",
      " 4   Drawn           40 non-null     int64  \n",
      " 5   Goals           40 non-null     int64  \n",
      " 6   Clean Sheets    40 non-null     int64  \n",
      " 7   TeamLaunch      40 non-null     object \n",
      " 8   Winners         40 non-null     float64\n",
      " 9   Runners-up      40 non-null     Int64  \n",
      " 10  lastplayed_pl   40 non-null     object \n",
      "dtypes: Int64(1), float64(1), int64(6), object(3)\n",
      "memory usage: 3.6+ KB\n"
     ]
    }
   ],
   "source": [
    "df.info()"
   ]
  },
  {
   "cell_type": "code",
   "execution_count": 21,
   "id": "55e79ee9",
   "metadata": {},
   "outputs": [
    {
     "data": {
      "text/plain": [
       "1878           3\n",
       "1886           2\n",
       "1884           2\n",
       "1874           2\n",
       "1905           2\n",
       "1875           2\n",
       "1892           2\n",
       "1879           2\n",
       "1882           2\n",
       "1895           1\n",
       "1863           1\n",
       "1932           1\n",
       "1901           1\n",
       "1919           1\n",
       "1894           1\n",
       "1881           1\n",
       "April 1898     1\n",
       "1889           1\n",
       "1867           1\n",
       "1877           1\n",
       "1885           1\n",
       "1865           1\n",
       "1904           1\n",
       "1861           1\n",
       "1899           1\n",
       "16 Oct 1878    1\n",
       "Aug 1883       1\n",
       "1912           1\n",
       "1902           1\n",
       "1876           1\n",
       "Name: TeamLaunch, dtype: int64"
      ]
     },
     "execution_count": 21,
     "metadata": {},
     "output_type": "execute_result"
    }
   ],
   "source": [
    "df['TeamLaunch'].value_counts()"
   ]
  },
  {
   "cell_type": "markdown",
   "id": "abdc8eeb",
   "metadata": {},
   "source": [
    "We also observed TeamLaunch column has data inconsistency"
   ]
  },
  {
   "cell_type": "code",
   "execution_count": 22,
   "id": "d1e00f4f",
   "metadata": {},
   "outputs": [],
   "source": [
    "# We need to convert the 'TeamLaunch' into 'YYYY'\n",
    "\n",
    "# convert the column to datetime format\n",
    "df['TeamLaunch'] = pd.to_datetime(df['TeamLaunch'], errors='coerce')\n",
    "\n",
    "# convert the column to YYYY format\n",
    "df['TeamLaunch'] = df['TeamLaunch'].dt.strftime('%Y')"
   ]
  },
  {
   "cell_type": "markdown",
   "id": "1cfdaab1",
   "metadata": {},
   "source": [
    "The first line of code converts the column 'column_name' to datetime format using the pandas to_datetime() function. The 'errors' parameter is set to 'coerce', which means that any invalid dates will be set to NaT (Not a Time) in the resulting datetime column.\n",
    "\n",
    "The second line of code uses the dt.strftime() method to convert the datetime column to a string column with only the year values. '%Y' is the format code for the year. This line of code will create a new column 'column_name' in the format YYYY."
   ]
  },
  {
   "cell_type": "code",
   "execution_count": 23,
   "id": "596e9c5b",
   "metadata": {},
   "outputs": [
    {
     "data": {
      "text/plain": [
       "1878    4\n",
       "1886    2\n",
       "1875    2\n",
       "1884    2\n",
       "1874    2\n",
       "1892    2\n",
       "1905    2\n",
       "1879    2\n",
       "1882    2\n",
       "1883    1\n",
       "1867    1\n",
       "1863    1\n",
       "1932    1\n",
       "1901    1\n",
       "1919    1\n",
       "1876    1\n",
       "1894    1\n",
       "1881    1\n",
       "1889    1\n",
       "1895    1\n",
       "1885    1\n",
       "1865    1\n",
       "1898    1\n",
       "1861    1\n",
       "1902    1\n",
       "1877    1\n",
       "1899    1\n",
       "1912    1\n",
       "1904    1\n",
       "Name: TeamLaunch, dtype: int64"
      ]
     },
     "execution_count": 23,
     "metadata": {},
     "output_type": "execute_result"
    }
   ],
   "source": [
    "df['TeamLaunch'].value_counts()"
   ]
  },
  {
   "cell_type": "code",
   "execution_count": 24,
   "id": "de78f879",
   "metadata": {},
   "outputs": [
    {
     "data": {
      "text/plain": [
       "dtype('O')"
      ]
     },
     "execution_count": 24,
     "metadata": {},
     "output_type": "execute_result"
    }
   ],
   "source": [
    "# Let us explore column 'lastplayed_pl'\n",
    "df.dtypes['lastplayed_pl']"
   ]
  },
  {
   "cell_type": "code",
   "execution_count": 25,
   "id": "7eee6453",
   "metadata": {},
   "outputs": [],
   "source": [
    "# Let us extract only the year in lastplayed_pl column\n",
    "df['lastplayed_pl'] = (pd.to_datetime(df['lastplayed_pl'], format='%b-%y', errors='coerce')).dt.year\n",
    "\n",
    "#The \"format\" parameter specifies the expected format of the input string. \n",
    "#In this case '%b-%y' which indicates a three-letter month abbreviation followed by a two-digit year (e.g. \"Mar-21\"). "
   ]
  },
  {
   "cell_type": "code",
   "execution_count": 26,
   "id": "ad808379",
   "metadata": {},
   "outputs": [
    {
     "data": {
      "text/plain": [
       "0     2023\n",
       "1     2023\n",
       "2     2011\n",
       "3     2012\n",
       "4     2012\n",
       "5     2023\n",
       "6     2023\n",
       "7     2022\n",
       "8     2007\n",
       "9     2023\n",
       "10    2001\n",
       "11    2023\n",
       "12    2008\n",
       "13    2023\n",
       "14    2023\n",
       "15    2002\n",
       "16    2023\n",
       "17    2023\n",
       "18    2023\n",
       "19    2023\n",
       "20    2023\n",
       "21    2017\n",
       "22    2023\n",
       "23    2022\n",
       "24    2023\n",
       "25    2017\n",
       "26    2015\n",
       "27    2021\n",
       "28    2000\n",
       "29    2023\n",
       "30    2018\n",
       "31    2017\n",
       "32    2018\n",
       "33    2023\n",
       "34    2022\n",
       "35    2018\n",
       "36    2023\n",
       "37    2013\n",
       "38    2023\n",
       "39    2010\n",
       "Name: lastplayed_pl, dtype: int64"
      ]
     },
     "execution_count": 26,
     "metadata": {},
     "output_type": "execute_result"
    }
   ],
   "source": [
    "df['lastplayed_pl']"
   ]
  },
  {
   "cell_type": "markdown",
   "id": "20ce0afc",
   "metadata": {},
   "source": [
    "### Section C: Deep dive into Data Analysis"
   ]
  },
  {
   "cell_type": "code",
   "execution_count": 27,
   "id": "176a05b0",
   "metadata": {},
   "outputs": [
    {
     "data": {
      "text/html": [
       "<div>\n",
       "<style scoped>\n",
       "    .dataframe tbody tr th:only-of-type {\n",
       "        vertical-align: middle;\n",
       "    }\n",
       "\n",
       "    .dataframe tbody tr th {\n",
       "        vertical-align: top;\n",
       "    }\n",
       "\n",
       "    .dataframe thead th {\n",
       "        text-align: right;\n",
       "    }\n",
       "</style>\n",
       "<table border=\"1\" class=\"dataframe\">\n",
       "  <thead>\n",
       "    <tr style=\"text-align: right;\">\n",
       "      <th></th>\n",
       "      <th>Matches Played</th>\n",
       "      <th>Win</th>\n",
       "      <th>Loss</th>\n",
       "      <th>Drawn</th>\n",
       "      <th>Goals</th>\n",
       "      <th>Clean Sheets</th>\n",
       "      <th>Winners</th>\n",
       "      <th>Runners-up</th>\n",
       "      <th>lastplayed_pl</th>\n",
       "    </tr>\n",
       "  </thead>\n",
       "  <tbody>\n",
       "    <tr>\n",
       "      <th>count</th>\n",
       "      <td>40.000000</td>\n",
       "      <td>40.000000</td>\n",
       "      <td>40.000000</td>\n",
       "      <td>40.000000</td>\n",
       "      <td>40.000000</td>\n",
       "      <td>40.000000</td>\n",
       "      <td>40.000000</td>\n",
       "      <td>40.000000</td>\n",
       "      <td>40.000000</td>\n",
       "    </tr>\n",
       "    <tr>\n",
       "      <th>mean</th>\n",
       "      <td>573.750000</td>\n",
       "      <td>215.450000</td>\n",
       "      <td>210.425000</td>\n",
       "      <td>147.875000</td>\n",
       "      <td>769.000000</td>\n",
       "      <td>167.925000</td>\n",
       "      <td>0.750000</td>\n",
       "      <td>0.750000</td>\n",
       "      <td>2018.000000</td>\n",
       "    </tr>\n",
       "    <tr>\n",
       "      <th>std</th>\n",
       "      <td>358.986519</td>\n",
       "      <td>194.164608</td>\n",
       "      <td>102.132364</td>\n",
       "      <td>88.873632</td>\n",
       "      <td>627.746478</td>\n",
       "      <td>135.561584</td>\n",
       "      <td>2.372384</td>\n",
       "      <td>1.750458</td>\n",
       "      <td>6.876195</td>\n",
       "    </tr>\n",
       "    <tr>\n",
       "      <th>min</th>\n",
       "      <td>190.000000</td>\n",
       "      <td>41.000000</td>\n",
       "      <td>85.000000</td>\n",
       "      <td>48.000000</td>\n",
       "      <td>181.000000</td>\n",
       "      <td>45.000000</td>\n",
       "      <td>0.000000</td>\n",
       "      <td>0.000000</td>\n",
       "      <td>2000.000000</td>\n",
       "    </tr>\n",
       "    <tr>\n",
       "      <th>25%</th>\n",
       "      <td>275.000000</td>\n",
       "      <td>80.500000</td>\n",
       "      <td>127.500000</td>\n",
       "      <td>71.500000</td>\n",
       "      <td>304.500000</td>\n",
       "      <td>66.000000</td>\n",
       "      <td>0.000000</td>\n",
       "      <td>0.000000</td>\n",
       "      <td>2014.500000</td>\n",
       "    </tr>\n",
       "    <tr>\n",
       "      <th>50%</th>\n",
       "      <td>443.000000</td>\n",
       "      <td>116.500000</td>\n",
       "      <td>193.500000</td>\n",
       "      <td>120.000000</td>\n",
       "      <td>462.000000</td>\n",
       "      <td>104.000000</td>\n",
       "      <td>0.000000</td>\n",
       "      <td>0.000000</td>\n",
       "      <td>2022.000000</td>\n",
       "    </tr>\n",
       "    <tr>\n",
       "      <th>75%</th>\n",
       "      <td>934.750000</td>\n",
       "      <td>295.750000</td>\n",
       "      <td>263.000000</td>\n",
       "      <td>222.000000</td>\n",
       "      <td>1142.750000</td>\n",
       "      <td>244.250000</td>\n",
       "      <td>0.000000</td>\n",
       "      <td>0.000000</td>\n",
       "      <td>2023.000000</td>\n",
       "    </tr>\n",
       "    <tr>\n",
       "      <th>max</th>\n",
       "      <td>1182.000000</td>\n",
       "      <td>720.000000</td>\n",
       "      <td>429.000000</td>\n",
       "      <td>329.000000</td>\n",
       "      <td>2229.000000</td>\n",
       "      <td>491.000000</td>\n",
       "      <td>13.000000</td>\n",
       "      <td>7.000000</td>\n",
       "      <td>2023.000000</td>\n",
       "    </tr>\n",
       "  </tbody>\n",
       "</table>\n",
       "</div>"
      ],
      "text/plain": [
       "       Matches Played         Win        Loss       Drawn        Goals  \\\n",
       "count       40.000000   40.000000   40.000000   40.000000    40.000000   \n",
       "mean       573.750000  215.450000  210.425000  147.875000   769.000000   \n",
       "std        358.986519  194.164608  102.132364   88.873632   627.746478   \n",
       "min        190.000000   41.000000   85.000000   48.000000   181.000000   \n",
       "25%        275.000000   80.500000  127.500000   71.500000   304.500000   \n",
       "50%        443.000000  116.500000  193.500000  120.000000   462.000000   \n",
       "75%        934.750000  295.750000  263.000000  222.000000  1142.750000   \n",
       "max       1182.000000  720.000000  429.000000  329.000000  2229.000000   \n",
       "\n",
       "       Clean Sheets    Winners  Runners-up  lastplayed_pl  \n",
       "count     40.000000  40.000000   40.000000      40.000000  \n",
       "mean     167.925000   0.750000    0.750000    2018.000000  \n",
       "std      135.561584   2.372384    1.750458       6.876195  \n",
       "min       45.000000   0.000000    0.000000    2000.000000  \n",
       "25%       66.000000   0.000000    0.000000    2014.500000  \n",
       "50%      104.000000   0.000000    0.000000    2022.000000  \n",
       "75%      244.250000   0.000000    0.000000    2023.000000  \n",
       "max      491.000000  13.000000    7.000000    2023.000000  "
      ]
     },
     "execution_count": 27,
     "metadata": {},
     "output_type": "execute_result"
    }
   ],
   "source": [
    "\n",
    "df.describe()"
   ]
  },
  {
   "cell_type": "markdown",
   "id": "f8502666",
   "metadata": {},
   "source": [
    "The average number of matches played by each team in the tournament is 573.75, while the mean number of goals scored by all teams is 769. However, the median number of goals scored is much lower at 462, indicating that some teams have scored significantly more goals than others. \n",
    "\n",
    "Interestingly, the median number of wins and runners-up positions are both 0, suggesting that most teams have not won or finished as runners-up in the tournament. However, there is one team that has won the tournament a remarkable 13 times and another team that has been the runners-up 7 times. It would be interesting to find out which teams these are."
   ]
  },
  {
   "cell_type": "code",
   "execution_count": 28,
   "id": "62dac351",
   "metadata": {
    "scrolled": true
   },
   "outputs": [
    {
     "data": {
      "text/plain": [
       "20    Manchester United\n",
       "Name: Club, dtype: object"
      ]
     },
     "execution_count": 28,
     "metadata": {},
     "output_type": "execute_result"
    }
   ],
   "source": [
    "# Team that has won Premier League 13 times\n",
    "df[df['Winners']==13]['Club']"
   ]
  },
  {
   "cell_type": "code",
   "execution_count": 29,
   "id": "df68894c",
   "metadata": {},
   "outputs": [
    {
     "data": {
      "text/plain": [
       "20    Manchester United\n",
       "Name: Club, dtype: object"
      ]
     },
     "execution_count": 29,
     "metadata": {},
     "output_type": "execute_result"
    }
   ],
   "source": [
    "# Team that has been runner-up 7 times\n",
    "df[df['Runners-up']==7]['Club']"
   ]
  },
  {
   "cell_type": "markdown",
   "id": "6f5f1549",
   "metadata": {},
   "source": [
    "We see that Manchester United has won Premier league 13 times and have been runner-up 7 times."
   ]
  },
  {
   "cell_type": "code",
   "execution_count": 30,
   "id": "a13b2fec",
   "metadata": {},
   "outputs": [],
   "source": [
    "import matplotlib.pyplot as plt\n",
    "\n",
    "%matplotlib inline"
   ]
  },
  {
   "cell_type": "code",
   "execution_count": 31,
   "id": "764f8fe6",
   "metadata": {},
   "outputs": [
    {
     "data": {
      "image/png": "[encoded data removed]",
      "text/plain": [
       "<Figure size 432x288 with 1 Axes>"
      ]
     },
     "metadata": {
      "needs_background": "light"
     },
     "output_type": "display_data"
    }
   ],
   "source": [
    "# Let us visualize each column\n",
    "\n",
    "# First let us start with Matches Played column\n",
    "# plot histogram\n",
    "plt.hist(df['Matches Played'])\n",
    "\n",
    "# add labels and title\n",
    "plt.xlabel('No. of Matches Played')\n",
    "plt.ylabel('Frequency')\n",
    "plt.title('Histogram of Matches Played')\n",
    "#plt.savefig('EDA_Hist.jpg',bbox_inches='tight',dpi=150)\n",
    "plt.show()"
   ]
  },
  {
   "cell_type": "markdown",
   "id": "e4217de6",
   "metadata": {},
   "source": [
    "We can see from the histogram that a majority of teams have played less than 400 matches. However, there are a few teams that have played an exceptionally high number of matches, exceeding 900. \n",
    "\n",
    "As per the project requirements, it is worth noting that some of the more established clubs have already been owned by the competitors. Therefore, the client is interested in identifying potential clubs that may perform well in the future, even if they have less experience in the Premier League."
   ]
  },
  {
   "cell_type": "code",
   "execution_count": 32,
   "id": "11b99027",
   "metadata": {},
   "outputs": [
    {
     "data": {
      "text/plain": [
       "0               Arsenal\n",
       "1           Aston Villa\n",
       "9               Chelsea\n",
       "13              Everton\n",
       "18            Liverpool\n",
       "19      Manchester City\n",
       "20    Manchester United\n",
       "22     Newcastle United\n",
       "29          Southampton\n",
       "33    Tottenham Hotspur\n",
       "36      West Ham United\n",
       "Name: Club, dtype: object"
      ]
     },
     "execution_count": 32,
     "metadata": {},
     "output_type": "execute_result"
    }
   ],
   "source": [
    "# Identify teams who have played more than 900 matches\n",
    "df[df['Matches Played']>=900]['Club']"
   ]
  },
  {
   "cell_type": "markdown",
   "id": "e49fba73",
   "metadata": {},
   "source": [
    "Upon analysis, we have observed that there are a total of 11 clubs who have significantly more experience in the Premier League as compared to the others. These clubs have played a higher number of matches and have established themselves as experienced players in the league.\n",
    "\n",
    "As per the client's requirements, we are interested in identifying potential clubs that may perform well in the future, even if they have less experience in the Premier League. Therefore, we have decided to drop these 11 clubs from our analysis, as their established presence in the league may skew our results and make it difficult to identify less experienced clubs with high potential.\n",
    "\n",
    "By removing these clubs, we can focus our analysis on the remaining clubs and potentially identify hidden gems that may have been overlooked due to their lack of experience in the league."
   ]
  },
  {
   "cell_type": "code",
   "execution_count": 33,
   "id": "e69e5fe8",
   "metadata": {},
   "outputs": [
    {
     "data": {
      "text/html": [
       "<div>\n",
       "<style scoped>\n",
       "    .dataframe tbody tr th:only-of-type {\n",
       "        vertical-align: middle;\n",
       "    }\n",
       "\n",
       "    .dataframe tbody tr th {\n",
       "        vertical-align: top;\n",
       "    }\n",
       "\n",
       "    .dataframe thead th {\n",
       "        text-align: right;\n",
       "    }\n",
       "</style>\n",
       "<table border=\"1\" class=\"dataframe\">\n",
       "  <thead>\n",
       "    <tr style=\"text-align: right;\">\n",
       "      <th></th>\n",
       "      <th>Club</th>\n",
       "      <th>Matches Played</th>\n",
       "      <th>Win</th>\n",
       "      <th>Loss</th>\n",
       "      <th>Drawn</th>\n",
       "      <th>Goals</th>\n",
       "      <th>Clean Sheets</th>\n",
       "      <th>TeamLaunch</th>\n",
       "      <th>Winners</th>\n",
       "      <th>Runners-up</th>\n",
       "      <th>lastplayed_pl</th>\n",
       "    </tr>\n",
       "  </thead>\n",
       "  <tbody>\n",
       "    <tr>\n",
       "      <th>2</th>\n",
       "      <td>Birmingham City</td>\n",
       "      <td>266</td>\n",
       "      <td>73</td>\n",
       "      <td>111</td>\n",
       "      <td>82</td>\n",
       "      <td>273</td>\n",
       "      <td>66</td>\n",
       "      <td>1875</td>\n",
       "      <td>0.0</td>\n",
       "      <td>0</td>\n",
       "      <td>2011</td>\n",
       "    </tr>\n",
       "    <tr>\n",
       "      <th>3</th>\n",
       "      <td>Blackburn Rovers</td>\n",
       "      <td>696</td>\n",
       "      <td>262</td>\n",
       "      <td>250</td>\n",
       "      <td>184</td>\n",
       "      <td>927</td>\n",
       "      <td>210</td>\n",
       "      <td>1875</td>\n",
       "      <td>1.0</td>\n",
       "      <td>1</td>\n",
       "      <td>2012</td>\n",
       "    </tr>\n",
       "    <tr>\n",
       "      <th>4</th>\n",
       "      <td>Bolton Wanderers</td>\n",
       "      <td>494</td>\n",
       "      <td>149</td>\n",
       "      <td>217</td>\n",
       "      <td>128</td>\n",
       "      <td>575</td>\n",
       "      <td>108</td>\n",
       "      <td>1874</td>\n",
       "      <td>0.0</td>\n",
       "      <td>0</td>\n",
       "      <td>2012</td>\n",
       "    </tr>\n",
       "    <tr>\n",
       "      <th>5</th>\n",
       "      <td>Bournemouth</td>\n",
       "      <td>219</td>\n",
       "      <td>64</td>\n",
       "      <td>107</td>\n",
       "      <td>48</td>\n",
       "      <td>269</td>\n",
       "      <td>45</td>\n",
       "      <td>1899</td>\n",
       "      <td>0.0</td>\n",
       "      <td>0</td>\n",
       "      <td>2023</td>\n",
       "    </tr>\n",
       "    <tr>\n",
       "      <th>6</th>\n",
       "      <td>Brighton &amp; Hove Albion</td>\n",
       "      <td>218</td>\n",
       "      <td>61</td>\n",
       "      <td>85</td>\n",
       "      <td>72</td>\n",
       "      <td>243</td>\n",
       "      <td>58</td>\n",
       "      <td>1901</td>\n",
       "      <td>0.0</td>\n",
       "      <td>0</td>\n",
       "      <td>2023</td>\n",
       "    </tr>\n",
       "    <tr>\n",
       "      <th>7</th>\n",
       "      <td>Burnley</td>\n",
       "      <td>304</td>\n",
       "      <td>83</td>\n",
       "      <td>145</td>\n",
       "      <td>76</td>\n",
       "      <td>300</td>\n",
       "      <td>78</td>\n",
       "      <td>1882</td>\n",
       "      <td>0.0</td>\n",
       "      <td>0</td>\n",
       "      <td>2022</td>\n",
       "    </tr>\n",
       "    <tr>\n",
       "      <th>8</th>\n",
       "      <td>Charlton Athletic</td>\n",
       "      <td>304</td>\n",
       "      <td>93</td>\n",
       "      <td>129</td>\n",
       "      <td>82</td>\n",
       "      <td>342</td>\n",
       "      <td>91</td>\n",
       "      <td>1905</td>\n",
       "      <td>0.0</td>\n",
       "      <td>0</td>\n",
       "      <td>2007</td>\n",
       "    </tr>\n",
       "    <tr>\n",
       "      <th>10</th>\n",
       "      <td>Coventry City</td>\n",
       "      <td>354</td>\n",
       "      <td>99</td>\n",
       "      <td>143</td>\n",
       "      <td>112</td>\n",
       "      <td>387</td>\n",
       "      <td>92</td>\n",
       "      <td>1883</td>\n",
       "      <td>0.0</td>\n",
       "      <td>0</td>\n",
       "      <td>2001</td>\n",
       "    </tr>\n",
       "    <tr>\n",
       "      <th>11</th>\n",
       "      <td>Crystal Palace</td>\n",
       "      <td>532</td>\n",
       "      <td>153</td>\n",
       "      <td>241</td>\n",
       "      <td>138</td>\n",
       "      <td>576</td>\n",
       "      <td>133</td>\n",
       "      <td>1861</td>\n",
       "      <td>0.0</td>\n",
       "      <td>0</td>\n",
       "      <td>2023</td>\n",
       "    </tr>\n",
       "    <tr>\n",
       "      <th>12</th>\n",
       "      <td>Derby County</td>\n",
       "      <td>266</td>\n",
       "      <td>68</td>\n",
       "      <td>128</td>\n",
       "      <td>70</td>\n",
       "      <td>271</td>\n",
       "      <td>66</td>\n",
       "      <td>1884</td>\n",
       "      <td>0.0</td>\n",
       "      <td>0</td>\n",
       "      <td>2008</td>\n",
       "    </tr>\n",
       "    <tr>\n",
       "      <th>14</th>\n",
       "      <td>Fulham</td>\n",
       "      <td>599</td>\n",
       "      <td>173</td>\n",
       "      <td>266</td>\n",
       "      <td>160</td>\n",
       "      <td>670</td>\n",
       "      <td>160</td>\n",
       "      <td>1879</td>\n",
       "      <td>0.0</td>\n",
       "      <td>0</td>\n",
       "      <td>2023</td>\n",
       "    </tr>\n",
       "    <tr>\n",
       "      <th>15</th>\n",
       "      <td>Ipswich Town</td>\n",
       "      <td>202</td>\n",
       "      <td>57</td>\n",
       "      <td>92</td>\n",
       "      <td>53</td>\n",
       "      <td>219</td>\n",
       "      <td>49</td>\n",
       "      <td>1878</td>\n",
       "      <td>0.0</td>\n",
       "      <td>0</td>\n",
       "      <td>2002</td>\n",
       "    </tr>\n",
       "    <tr>\n",
       "      <th>16</th>\n",
       "      <td>Leeds United</td>\n",
       "      <td>574</td>\n",
       "      <td>223</td>\n",
       "      <td>202</td>\n",
       "      <td>149</td>\n",
       "      <td>784</td>\n",
       "      <td>179</td>\n",
       "      <td>1919</td>\n",
       "      <td>0.0</td>\n",
       "      <td>0</td>\n",
       "      <td>2023</td>\n",
       "    </tr>\n",
       "    <tr>\n",
       "      <th>17</th>\n",
       "      <td>Leicester City</td>\n",
       "      <td>642</td>\n",
       "      <td>216</td>\n",
       "      <td>262</td>\n",
       "      <td>164</td>\n",
       "      <td>860</td>\n",
       "      <td>167</td>\n",
       "      <td>1884</td>\n",
       "      <td>1.0</td>\n",
       "      <td>0</td>\n",
       "      <td>2023</td>\n",
       "    </tr>\n",
       "    <tr>\n",
       "      <th>21</th>\n",
       "      <td>Middlesbrough</td>\n",
       "      <td>574</td>\n",
       "      <td>165</td>\n",
       "      <td>240</td>\n",
       "      <td>169</td>\n",
       "      <td>648</td>\n",
       "      <td>147</td>\n",
       "      <td>1876</td>\n",
       "      <td>0.0</td>\n",
       "      <td>0</td>\n",
       "      <td>2017</td>\n",
       "    </tr>\n",
       "    <tr>\n",
       "      <th>23</th>\n",
       "      <td>Norwich City</td>\n",
       "      <td>392</td>\n",
       "      <td>99</td>\n",
       "      <td>188</td>\n",
       "      <td>105</td>\n",
       "      <td>414</td>\n",
       "      <td>78</td>\n",
       "      <td>1902</td>\n",
       "      <td>0.0</td>\n",
       "      <td>0</td>\n",
       "      <td>2022</td>\n",
       "    </tr>\n",
       "    <tr>\n",
       "      <th>24</th>\n",
       "      <td>Nottingham Forest</td>\n",
       "      <td>227</td>\n",
       "      <td>66</td>\n",
       "      <td>94</td>\n",
       "      <td>67</td>\n",
       "      <td>253</td>\n",
       "      <td>52</td>\n",
       "      <td>1865</td>\n",
       "      <td>0.0</td>\n",
       "      <td>0</td>\n",
       "      <td>2023</td>\n",
       "    </tr>\n",
       "    <tr>\n",
       "      <th>25</th>\n",
       "      <td>Hull City</td>\n",
       "      <td>190</td>\n",
       "      <td>41</td>\n",
       "      <td>101</td>\n",
       "      <td>48</td>\n",
       "      <td>181</td>\n",
       "      <td>58</td>\n",
       "      <td>1904</td>\n",
       "      <td>0.0</td>\n",
       "      <td>0</td>\n",
       "      <td>2017</td>\n",
       "    </tr>\n",
       "    <tr>\n",
       "      <th>26</th>\n",
       "      <td>Queens Park Rangers</td>\n",
       "      <td>278</td>\n",
       "      <td>81</td>\n",
       "      <td>132</td>\n",
       "      <td>65</td>\n",
       "      <td>339</td>\n",
       "      <td>53</td>\n",
       "      <td>1886</td>\n",
       "      <td>0.0</td>\n",
       "      <td>0</td>\n",
       "      <td>2015</td>\n",
       "    </tr>\n",
       "    <tr>\n",
       "      <th>27</th>\n",
       "      <td>Sheffield United</td>\n",
       "      <td>198</td>\n",
       "      <td>53</td>\n",
       "      <td>95</td>\n",
       "      <td>50</td>\n",
       "      <td>187</td>\n",
       "      <td>50</td>\n",
       "      <td>1889</td>\n",
       "      <td>0.0</td>\n",
       "      <td>0</td>\n",
       "      <td>2021</td>\n",
       "    </tr>\n",
       "    <tr>\n",
       "      <th>28</th>\n",
       "      <td>Sheffield Wednesday</td>\n",
       "      <td>316</td>\n",
       "      <td>101</td>\n",
       "      <td>126</td>\n",
       "      <td>89</td>\n",
       "      <td>409</td>\n",
       "      <td>78</td>\n",
       "      <td>1867</td>\n",
       "      <td>0.0</td>\n",
       "      <td>0</td>\n",
       "      <td>2000</td>\n",
       "    </tr>\n",
       "    <tr>\n",
       "      <th>30</th>\n",
       "      <td>Stoke City</td>\n",
       "      <td>380</td>\n",
       "      <td>116</td>\n",
       "      <td>155</td>\n",
       "      <td>109</td>\n",
       "      <td>398</td>\n",
       "      <td>101</td>\n",
       "      <td>1863</td>\n",
       "      <td>0.0</td>\n",
       "      <td>0</td>\n",
       "      <td>2018</td>\n",
       "    </tr>\n",
       "    <tr>\n",
       "      <th>31</th>\n",
       "      <td>Sunderland</td>\n",
       "      <td>608</td>\n",
       "      <td>153</td>\n",
       "      <td>296</td>\n",
       "      <td>159</td>\n",
       "      <td>612</td>\n",
       "      <td>150</td>\n",
       "      <td>1879</td>\n",
       "      <td>0.0</td>\n",
       "      <td>0</td>\n",
       "      <td>2017</td>\n",
       "    </tr>\n",
       "    <tr>\n",
       "      <th>32</th>\n",
       "      <td>Swansea City</td>\n",
       "      <td>266</td>\n",
       "      <td>82</td>\n",
       "      <td>118</td>\n",
       "      <td>66</td>\n",
       "      <td>306</td>\n",
       "      <td>71</td>\n",
       "      <td>1912</td>\n",
       "      <td>0.0</td>\n",
       "      <td>0</td>\n",
       "      <td>2018</td>\n",
       "    </tr>\n",
       "    <tr>\n",
       "      <th>34</th>\n",
       "      <td>Watford</td>\n",
       "      <td>305</td>\n",
       "      <td>73</td>\n",
       "      <td>165</td>\n",
       "      <td>67</td>\n",
       "      <td>310</td>\n",
       "      <td>62</td>\n",
       "      <td>1881</td>\n",
       "      <td>0.0</td>\n",
       "      <td>0</td>\n",
       "      <td>2022</td>\n",
       "    </tr>\n",
       "    <tr>\n",
       "      <th>35</th>\n",
       "      <td>West Bromwich Albion</td>\n",
       "      <td>494</td>\n",
       "      <td>117</td>\n",
       "      <td>238</td>\n",
       "      <td>139</td>\n",
       "      <td>510</td>\n",
       "      <td>107</td>\n",
       "      <td>1878</td>\n",
       "      <td>0.0</td>\n",
       "      <td>0</td>\n",
       "      <td>2018</td>\n",
       "    </tr>\n",
       "    <tr>\n",
       "      <th>37</th>\n",
       "      <td>Wigan Athletic</td>\n",
       "      <td>304</td>\n",
       "      <td>85</td>\n",
       "      <td>143</td>\n",
       "      <td>76</td>\n",
       "      <td>316</td>\n",
       "      <td>73</td>\n",
       "      <td>1932</td>\n",
       "      <td>0.0</td>\n",
       "      <td>0</td>\n",
       "      <td>2013</td>\n",
       "    </tr>\n",
       "    <tr>\n",
       "      <th>38</th>\n",
       "      <td>Wolverhampton Wanderers</td>\n",
       "      <td>334</td>\n",
       "      <td>98</td>\n",
       "      <td>151</td>\n",
       "      <td>85</td>\n",
       "      <td>353</td>\n",
       "      <td>75</td>\n",
       "      <td>1877</td>\n",
       "      <td>0.0</td>\n",
       "      <td>0</td>\n",
       "      <td>2023</td>\n",
       "    </tr>\n",
       "    <tr>\n",
       "      <th>39</th>\n",
       "      <td>Portsmouth</td>\n",
       "      <td>266</td>\n",
       "      <td>79</td>\n",
       "      <td>122</td>\n",
       "      <td>65</td>\n",
       "      <td>292</td>\n",
       "      <td>61</td>\n",
       "      <td>1898</td>\n",
       "      <td>0.0</td>\n",
       "      <td>0</td>\n",
       "      <td>2010</td>\n",
       "    </tr>\n",
       "  </tbody>\n",
       "</table>\n",
       "</div>"
      ],
      "text/plain": [
       "                       Club  Matches Played  Win  Loss  Drawn  Goals  \\\n",
       "2           Birmingham City             266   73   111     82    273   \n",
       "3          Blackburn Rovers             696  262   250    184    927   \n",
       "4          Bolton Wanderers             494  149   217    128    575   \n",
       "5               Bournemouth             219   64   107     48    269   \n",
       "6    Brighton & Hove Albion             218   61    85     72    243   \n",
       "7                   Burnley             304   83   145     76    300   \n",
       "8         Charlton Athletic             304   93   129     82    342   \n",
       "10            Coventry City             354   99   143    112    387   \n",
       "11           Crystal Palace             532  153   241    138    576   \n",
       "12             Derby County             266   68   128     70    271   \n",
       "14                   Fulham             599  173   266    160    670   \n",
       "15             Ipswich Town             202   57    92     53    219   \n",
       "16             Leeds United             574  223   202    149    784   \n",
       "17           Leicester City             642  216   262    164    860   \n",
       "21            Middlesbrough             574  165   240    169    648   \n",
       "23             Norwich City             392   99   188    105    414   \n",
       "24        Nottingham Forest             227   66    94     67    253   \n",
       "25                Hull City             190   41   101     48    181   \n",
       "26      Queens Park Rangers             278   81   132     65    339   \n",
       "27         Sheffield United             198   53    95     50    187   \n",
       "28      Sheffield Wednesday             316  101   126     89    409   \n",
       "30               Stoke City             380  116   155    109    398   \n",
       "31               Sunderland             608  153   296    159    612   \n",
       "32             Swansea City             266   82   118     66    306   \n",
       "34                  Watford             305   73   165     67    310   \n",
       "35     West Bromwich Albion             494  117   238    139    510   \n",
       "37           Wigan Athletic             304   85   143     76    316   \n",
       "38  Wolverhampton Wanderers             334   98   151     85    353   \n",
       "39               Portsmouth             266   79   122     65    292   \n",
       "\n",
       "    Clean Sheets TeamLaunch  Winners  Runners-up  lastplayed_pl  \n",
       "2             66       1875      0.0           0           2011  \n",
       "3            210       1875      1.0           1           2012  \n",
       "4            108       1874      0.0           0           2012  \n",
       "5             45       1899      0.0           0           2023  \n",
       "6             58       1901      0.0           0           2023  \n",
       "7             78       1882      0.0           0           2022  \n",
       "8             91       1905      0.0           0           2007  \n",
       "10            92       1883      0.0           0           2001  \n",
       "11           133       1861      0.0           0           2023  \n",
       "12            66       1884      0.0           0           2008  \n",
       "14           160       1879      0.0           0           2023  \n",
       "15            49       1878      0.0           0           2002  \n",
       "16           179       1919      0.0           0           2023  \n",
       "17           167       1884      1.0           0           2023  \n",
       "21           147       1876      0.0           0           2017  \n",
       "23            78       1902      0.0           0           2022  \n",
       "24            52       1865      0.0           0           2023  \n",
       "25            58       1904      0.0           0           2017  \n",
       "26            53       1886      0.0           0           2015  \n",
       "27            50       1889      0.0           0           2021  \n",
       "28            78       1867      0.0           0           2000  \n",
       "30           101       1863      0.0           0           2018  \n",
       "31           150       1879      0.0           0           2017  \n",
       "32            71       1912      0.0           0           2018  \n",
       "34            62       1881      0.0           0           2022  \n",
       "35           107       1878      0.0           0           2018  \n",
       "37            73       1932      0.0           0           2013  \n",
       "38            75       1877      0.0           0           2023  \n",
       "39            61       1898      0.0           0           2010  "
      ]
     },
     "execution_count": 33,
     "metadata": {},
     "output_type": "execute_result"
    }
   ],
   "source": [
    "df[df['Matches Played'] < 900]"
   ]
  },
  {
   "cell_type": "code",
   "execution_count": 34,
   "id": "1a3e0d66",
   "metadata": {},
   "outputs": [],
   "source": [
    "df = df[df['Matches Played'] < 900].reset_index(drop=True)"
   ]
  },
  {
   "cell_type": "code",
   "execution_count": 35,
   "id": "86cb4e78",
   "metadata": {},
   "outputs": [
    {
     "data": {
      "text/html": [
       "<div>\n",
       "<style scoped>\n",
       "    .dataframe tbody tr th:only-of-type {\n",
       "        vertical-align: middle;\n",
       "    }\n",
       "\n",
       "    .dataframe tbody tr th {\n",
       "        vertical-align: top;\n",
       "    }\n",
       "\n",
       "    .dataframe thead th {\n",
       "        text-align: right;\n",
       "    }\n",
       "</style>\n",
       "<table border=\"1\" class=\"dataframe\">\n",
       "  <thead>\n",
       "    <tr style=\"text-align: right;\">\n",
       "      <th></th>\n",
       "      <th>Club</th>\n",
       "      <th>Matches Played</th>\n",
       "      <th>Win</th>\n",
       "      <th>Loss</th>\n",
       "      <th>Drawn</th>\n",
       "      <th>Goals</th>\n",
       "      <th>Clean Sheets</th>\n",
       "      <th>TeamLaunch</th>\n",
       "      <th>Winners</th>\n",
       "      <th>Runners-up</th>\n",
       "      <th>lastplayed_pl</th>\n",
       "    </tr>\n",
       "  </thead>\n",
       "  <tbody>\n",
       "    <tr>\n",
       "      <th>0</th>\n",
       "      <td>Birmingham City</td>\n",
       "      <td>266</td>\n",
       "      <td>73</td>\n",
       "      <td>111</td>\n",
       "      <td>82</td>\n",
       "      <td>273</td>\n",
       "      <td>66</td>\n",
       "      <td>1875</td>\n",
       "      <td>0.0</td>\n",
       "      <td>0</td>\n",
       "      <td>2011</td>\n",
       "    </tr>\n",
       "    <tr>\n",
       "      <th>1</th>\n",
       "      <td>Blackburn Rovers</td>\n",
       "      <td>696</td>\n",
       "      <td>262</td>\n",
       "      <td>250</td>\n",
       "      <td>184</td>\n",
       "      <td>927</td>\n",
       "      <td>210</td>\n",
       "      <td>1875</td>\n",
       "      <td>1.0</td>\n",
       "      <td>1</td>\n",
       "      <td>2012</td>\n",
       "    </tr>\n",
       "    <tr>\n",
       "      <th>2</th>\n",
       "      <td>Bolton Wanderers</td>\n",
       "      <td>494</td>\n",
       "      <td>149</td>\n",
       "      <td>217</td>\n",
       "      <td>128</td>\n",
       "      <td>575</td>\n",
       "      <td>108</td>\n",
       "      <td>1874</td>\n",
       "      <td>0.0</td>\n",
       "      <td>0</td>\n",
       "      <td>2012</td>\n",
       "    </tr>\n",
       "    <tr>\n",
       "      <th>3</th>\n",
       "      <td>Bournemouth</td>\n",
       "      <td>219</td>\n",
       "      <td>64</td>\n",
       "      <td>107</td>\n",
       "      <td>48</td>\n",
       "      <td>269</td>\n",
       "      <td>45</td>\n",
       "      <td>1899</td>\n",
       "      <td>0.0</td>\n",
       "      <td>0</td>\n",
       "      <td>2023</td>\n",
       "    </tr>\n",
       "    <tr>\n",
       "      <th>4</th>\n",
       "      <td>Brighton &amp; Hove Albion</td>\n",
       "      <td>218</td>\n",
       "      <td>61</td>\n",
       "      <td>85</td>\n",
       "      <td>72</td>\n",
       "      <td>243</td>\n",
       "      <td>58</td>\n",
       "      <td>1901</td>\n",
       "      <td>0.0</td>\n",
       "      <td>0</td>\n",
       "      <td>2023</td>\n",
       "    </tr>\n",
       "  </tbody>\n",
       "</table>\n",
       "</div>"
      ],
      "text/plain": [
       "                     Club  Matches Played  Win  Loss  Drawn  Goals  \\\n",
       "0         Birmingham City             266   73   111     82    273   \n",
       "1        Blackburn Rovers             696  262   250    184    927   \n",
       "2        Bolton Wanderers             494  149   217    128    575   \n",
       "3             Bournemouth             219   64   107     48    269   \n",
       "4  Brighton & Hove Albion             218   61    85     72    243   \n",
       "\n",
       "   Clean Sheets TeamLaunch  Winners  Runners-up  lastplayed_pl  \n",
       "0            66       1875      0.0           0           2011  \n",
       "1           210       1875      1.0           1           2012  \n",
       "2           108       1874      0.0           0           2012  \n",
       "3            45       1899      0.0           0           2023  \n",
       "4            58       1901      0.0           0           2023  "
      ]
     },
     "execution_count": 35,
     "metadata": {},
     "output_type": "execute_result"
    }
   ],
   "source": [
    "# view data\n",
    "\n",
    "df.head()"
   ]
  },
  {
   "cell_type": "code",
   "execution_count": 36,
   "id": "8bec58d6",
   "metadata": {},
   "outputs": [
    {
     "data": {
      "text/plain": [
       "(29, 11)"
      ]
     },
     "execution_count": 36,
     "metadata": {},
     "output_type": "execute_result"
    }
   ],
   "source": [
    "# Shape of data\n",
    "\n",
    "df.shape"
   ]
  },
  {
   "cell_type": "code",
   "execution_count": 159,
   "id": "ac042e22",
   "metadata": {},
   "outputs": [],
   "source": [
    "# Now let us look at Win, Loss, Drawn, and clean sheets column"
   ]
  },
  {
   "cell_type": "markdown",
   "id": "e195e98a",
   "metadata": {},
   "source": [
    "We can see ‘Birmingham City’ has won the matches 73 times out of 266 matches played, While ‘Blackburn Rovers’ has won the matches 262 times out of 696 matches played.\n",
    "\n",
    "My question is can we compare 73 Wins with 262 Wins? No, because obviously the teams who played lesser matches will have lesser wins which does not mean they are a bad team just because they played lesser number of matches.\n",
    "\n",
    "So there is a issue here. We easily analyzed ‘Matches Played’ Column but we can’t do the same for ‘Win’, ‘Loss’, ‘Drawn’, ‘Goals’, ‘Clean Sheets’, can’t compare these columns because everything depends on ‘Matches Played’\n",
    "\n",
    "It is essential to understand that the values in all the columns represent the cumulative scores over all the matches played. \n",
    "\n",
    "To accurately analyze the performance of the teams, we must normalize the data by dividing the no. of wins, loss, drawn, clean sheet, goals by the number of matches played. \n",
    "\n",
    "This normalization will provide us with a fair idea of the winning, losing, draw, and clean sheet percentages of each team along with goals per match."
   ]
  },
  {
   "cell_type": "code",
   "execution_count": 37,
   "id": "887a11ea",
   "metadata": {},
   "outputs": [],
   "source": [
    "# Create new columns for Winning Rate, Loss Rate, Draw Rate, & Clean Sheet Rate\n",
    "df['Winning Rate'] = (df['Win'] / df['Matches Played'])*100\n",
    "df['Loss Rate'] = (df['Loss'] / df['Matches Played'])*100\n",
    "df['Drawn Rate'] = (df['Drawn'] / df['Matches Played'])*100\n",
    "df['Clean Sheet Rate'] = (df['Clean Sheets'] / df['Matches Played'])*100"
   ]
  },
  {
   "cell_type": "code",
   "execution_count": 38,
   "id": "2db105a0",
   "metadata": {},
   "outputs": [],
   "source": [
    "# Create a column for average goals scored per match\n",
    "\n",
    "df['Avg Goals Per Match']=df['Goals']/df['Matches Played']\n",
    "\n"
   ]
  },
  {
   "cell_type": "code",
   "execution_count": 39,
   "id": "7a74706a",
   "metadata": {},
   "outputs": [
    {
     "data": {
      "text/plain": [
       "0    1.026316\n",
       "1    1.331897\n",
       "2    1.163968\n",
       "3    1.228311\n",
       "4    1.114679\n",
       "Name: Avg Goals Per Match, dtype: float64"
      ]
     },
     "execution_count": 39,
     "metadata": {},
     "output_type": "execute_result"
    }
   ],
   "source": [
    "df['Avg Goals Per Match'].head()"
   ]
  },
  {
   "cell_type": "code",
   "execution_count": 40,
   "id": "a249af80",
   "metadata": {},
   "outputs": [],
   "source": [
    "df['Avg Goals Per Match']=df['Avg Goals Per Match'].round()"
   ]
  },
  {
   "cell_type": "code",
   "execution_count": 41,
   "id": "91c8f75c",
   "metadata": {},
   "outputs": [
    {
     "data": {
      "text/html": [
       "<div>\n",
       "<style scoped>\n",
       "    .dataframe tbody tr th:only-of-type {\n",
       "        vertical-align: middle;\n",
       "    }\n",
       "\n",
       "    .dataframe tbody tr th {\n",
       "        vertical-align: top;\n",
       "    }\n",
       "\n",
       "    .dataframe thead th {\n",
       "        text-align: right;\n",
       "    }\n",
       "</style>\n",
       "<table border=\"1\" class=\"dataframe\">\n",
       "  <thead>\n",
       "    <tr style=\"text-align: right;\">\n",
       "      <th></th>\n",
       "      <th>Club</th>\n",
       "      <th>Matches Played</th>\n",
       "      <th>Win</th>\n",
       "      <th>Loss</th>\n",
       "      <th>Drawn</th>\n",
       "      <th>Goals</th>\n",
       "      <th>Clean Sheets</th>\n",
       "      <th>TeamLaunch</th>\n",
       "      <th>Winners</th>\n",
       "      <th>Runners-up</th>\n",
       "      <th>lastplayed_pl</th>\n",
       "      <th>Winning Rate</th>\n",
       "      <th>Loss Rate</th>\n",
       "      <th>Drawn Rate</th>\n",
       "      <th>Clean Sheet Rate</th>\n",
       "      <th>Avg Goals Per Match</th>\n",
       "    </tr>\n",
       "  </thead>\n",
       "  <tbody>\n",
       "    <tr>\n",
       "      <th>0</th>\n",
       "      <td>Birmingham City</td>\n",
       "      <td>266</td>\n",
       "      <td>73</td>\n",
       "      <td>111</td>\n",
       "      <td>82</td>\n",
       "      <td>273</td>\n",
       "      <td>66</td>\n",
       "      <td>1875</td>\n",
       "      <td>0.0</td>\n",
       "      <td>0</td>\n",
       "      <td>2011</td>\n",
       "      <td>27.443609</td>\n",
       "      <td>41.729323</td>\n",
       "      <td>30.827068</td>\n",
       "      <td>24.812030</td>\n",
       "      <td>1.0</td>\n",
       "    </tr>\n",
       "    <tr>\n",
       "      <th>1</th>\n",
       "      <td>Blackburn Rovers</td>\n",
       "      <td>696</td>\n",
       "      <td>262</td>\n",
       "      <td>250</td>\n",
       "      <td>184</td>\n",
       "      <td>927</td>\n",
       "      <td>210</td>\n",
       "      <td>1875</td>\n",
       "      <td>1.0</td>\n",
       "      <td>1</td>\n",
       "      <td>2012</td>\n",
       "      <td>37.643678</td>\n",
       "      <td>35.919540</td>\n",
       "      <td>26.436782</td>\n",
       "      <td>30.172414</td>\n",
       "      <td>1.0</td>\n",
       "    </tr>\n",
       "    <tr>\n",
       "      <th>2</th>\n",
       "      <td>Bolton Wanderers</td>\n",
       "      <td>494</td>\n",
       "      <td>149</td>\n",
       "      <td>217</td>\n",
       "      <td>128</td>\n",
       "      <td>575</td>\n",
       "      <td>108</td>\n",
       "      <td>1874</td>\n",
       "      <td>0.0</td>\n",
       "      <td>0</td>\n",
       "      <td>2012</td>\n",
       "      <td>30.161943</td>\n",
       "      <td>43.927126</td>\n",
       "      <td>25.910931</td>\n",
       "      <td>21.862348</td>\n",
       "      <td>1.0</td>\n",
       "    </tr>\n",
       "    <tr>\n",
       "      <th>3</th>\n",
       "      <td>Bournemouth</td>\n",
       "      <td>219</td>\n",
       "      <td>64</td>\n",
       "      <td>107</td>\n",
       "      <td>48</td>\n",
       "      <td>269</td>\n",
       "      <td>45</td>\n",
       "      <td>1899</td>\n",
       "      <td>0.0</td>\n",
       "      <td>0</td>\n",
       "      <td>2023</td>\n",
       "      <td>29.223744</td>\n",
       "      <td>48.858447</td>\n",
       "      <td>21.917808</td>\n",
       "      <td>20.547945</td>\n",
       "      <td>1.0</td>\n",
       "    </tr>\n",
       "    <tr>\n",
       "      <th>4</th>\n",
       "      <td>Brighton &amp; Hove Albion</td>\n",
       "      <td>218</td>\n",
       "      <td>61</td>\n",
       "      <td>85</td>\n",
       "      <td>72</td>\n",
       "      <td>243</td>\n",
       "      <td>58</td>\n",
       "      <td>1901</td>\n",
       "      <td>0.0</td>\n",
       "      <td>0</td>\n",
       "      <td>2023</td>\n",
       "      <td>27.981651</td>\n",
       "      <td>38.990826</td>\n",
       "      <td>33.027523</td>\n",
       "      <td>26.605505</td>\n",
       "      <td>1.0</td>\n",
       "    </tr>\n",
       "  </tbody>\n",
       "</table>\n",
       "</div>"
      ],
      "text/plain": [
       "                     Club  Matches Played  Win  Loss  Drawn  Goals  \\\n",
       "0         Birmingham City             266   73   111     82    273   \n",
       "1        Blackburn Rovers             696  262   250    184    927   \n",
       "2        Bolton Wanderers             494  149   217    128    575   \n",
       "3             Bournemouth             219   64   107     48    269   \n",
       "4  Brighton & Hove Albion             218   61    85     72    243   \n",
       "\n",
       "   Clean Sheets TeamLaunch  Winners  Runners-up  lastplayed_pl  Winning Rate  \\\n",
       "0            66       1875      0.0           0           2011     27.443609   \n",
       "1           210       1875      1.0           1           2012     37.643678   \n",
       "2           108       1874      0.0           0           2012     30.161943   \n",
       "3            45       1899      0.0           0           2023     29.223744   \n",
       "4            58       1901      0.0           0           2023     27.981651   \n",
       "\n",
       "   Loss Rate  Drawn Rate  Clean Sheet Rate  Avg Goals Per Match  \n",
       "0  41.729323   30.827068         24.812030                  1.0  \n",
       "1  35.919540   26.436782         30.172414                  1.0  \n",
       "2  43.927126   25.910931         21.862348                  1.0  \n",
       "3  48.858447   21.917808         20.547945                  1.0  \n",
       "4  38.990826   33.027523         26.605505                  1.0  "
      ]
     },
     "execution_count": 41,
     "metadata": {},
     "output_type": "execute_result"
    }
   ],
   "source": [
    "# View data\n",
    "df.head()"
   ]
  },
  {
   "cell_type": "code",
   "execution_count": 42,
   "id": "21f851fd",
   "metadata": {},
   "outputs": [
    {
     "data": {
      "text/plain": [
       "count    29.0\n",
       "mean      1.0\n",
       "std       0.0\n",
       "min       1.0\n",
       "25%       1.0\n",
       "50%       1.0\n",
       "75%       1.0\n",
       "max       1.0\n",
       "Name: Avg Goals Per Match, dtype: float64"
      ]
     },
     "execution_count": 42,
     "metadata": {},
     "output_type": "execute_result"
    }
   ],
   "source": [
    "df['Avg Goals Per Match'].describe()"
   ]
  },
  {
   "cell_type": "code",
   "execution_count": 43,
   "id": "60fe1564",
   "metadata": {
    "scrolled": true
   },
   "outputs": [
    {
     "data": {
      "image/png": "[encoded data removed]",
      "text/plain": [
       "<Figure size 576x432 with 1 Axes>"
      ]
     },
     "metadata": {
      "needs_background": "light"
     },
     "output_type": "display_data"
    }
   ],
   "source": [
    "# Now let us visualize Winning, Loss, Drawn rate, and Clean Sheet\n",
    "\n",
    "# Set the figure size\n",
    "plt.figure(figsize=(8, 6))\n",
    "\n",
    "# Create the boxplot\n",
    "boxplot = plt.boxplot([df['Winning Rate'], df['Drawn Rate'], df['Loss Rate'], df['Clean Sheet Rate']], \n",
    "                      patch_artist=True,\n",
    "                      labels=['Winning Rate', 'Drawn Rate', 'Loss Rate', 'Clean Sheet Rate'])\n",
    "\n",
    "# Set the title and axis labels\n",
    "plt.title('Distribution of Winning Rate, Drawn Rate, Loss Rate and Clean Sheet Rate')\n",
    "plt.xlabel('Winning, Drawn ,Lost Game & Clean Sheet')\n",
    "plt.ylabel('Rate')\n",
    "\n",
    "# Show the plot\n",
    "#plt.savefig('EDA_Box.jpg',bbox_inches='tight',dpi=150)\n",
    "plt.show()"
   ]
  },
  {
   "cell_type": "markdown",
   "id": "3234854f",
   "metadata": {},
   "source": [
    "#### Winning Rate\n",
    "\n",
    "We observe that there are a few outliers in the Winning Rate boxplot, which are located above the upper whisker. It is safe to conclude that these outlier clubs have shown exceptional winning rates compared to the other clubs. Let us identify them ahead.\n",
    "\n",
    "Also let us identify the club that has least \"Winning Rate\"\n",
    "\n",
    "#### Drawn Rate\n",
    "\n",
    "We observe an outlier in the drawn rate boxplot, indicating that there is one clubs has a much higher drawn rate compared to others. This may not necessarily be a positive indication, as it suggests that the club may struggle to secure wins in their matches. Going further let us identify which club is this.\n",
    "\n",
    "#### Loss Rate\n",
    "\n",
    "We can see very clearly that loss rates for these clubs are high compared to winning rate. \n",
    "\n",
    "#### Clean Sheet Rate\n",
    "\n",
    "We see that data for Clean Sheet rate is pretty symmetric."
   ]
  },
  {
   "cell_type": "code",
   "execution_count": 44,
   "id": "15914434",
   "metadata": {},
   "outputs": [
    {
     "data": {
      "text/html": [
       "<div>\n",
       "<style scoped>\n",
       "    .dataframe tbody tr th:only-of-type {\n",
       "        vertical-align: middle;\n",
       "    }\n",
       "\n",
       "    .dataframe tbody tr th {\n",
       "        vertical-align: top;\n",
       "    }\n",
       "\n",
       "    .dataframe thead th {\n",
       "        text-align: right;\n",
       "    }\n",
       "</style>\n",
       "<table border=\"1\" class=\"dataframe\">\n",
       "  <thead>\n",
       "    <tr style=\"text-align: right;\">\n",
       "      <th></th>\n",
       "      <th>Club</th>\n",
       "      <th>Matches Played</th>\n",
       "      <th>Win</th>\n",
       "      <th>Loss</th>\n",
       "      <th>Drawn</th>\n",
       "      <th>Goals</th>\n",
       "      <th>Clean Sheets</th>\n",
       "      <th>TeamLaunch</th>\n",
       "      <th>Winners</th>\n",
       "      <th>Runners-up</th>\n",
       "      <th>lastplayed_pl</th>\n",
       "      <th>Winning Rate</th>\n",
       "      <th>Loss Rate</th>\n",
       "      <th>Drawn Rate</th>\n",
       "      <th>Clean Sheet Rate</th>\n",
       "      <th>Avg Goals Per Match</th>\n",
       "    </tr>\n",
       "  </thead>\n",
       "  <tbody>\n",
       "    <tr>\n",
       "      <th>1</th>\n",
       "      <td>Blackburn Rovers</td>\n",
       "      <td>696</td>\n",
       "      <td>262</td>\n",
       "      <td>250</td>\n",
       "      <td>184</td>\n",
       "      <td>927</td>\n",
       "      <td>210</td>\n",
       "      <td>1875</td>\n",
       "      <td>1.0</td>\n",
       "      <td>1</td>\n",
       "      <td>2012</td>\n",
       "      <td>37.643678</td>\n",
       "      <td>35.919540</td>\n",
       "      <td>26.436782</td>\n",
       "      <td>30.172414</td>\n",
       "      <td>1.0</td>\n",
       "    </tr>\n",
       "    <tr>\n",
       "      <th>12</th>\n",
       "      <td>Leeds United</td>\n",
       "      <td>574</td>\n",
       "      <td>223</td>\n",
       "      <td>202</td>\n",
       "      <td>149</td>\n",
       "      <td>784</td>\n",
       "      <td>179</td>\n",
       "      <td>1919</td>\n",
       "      <td>0.0</td>\n",
       "      <td>0</td>\n",
       "      <td>2023</td>\n",
       "      <td>38.850174</td>\n",
       "      <td>35.191638</td>\n",
       "      <td>25.958188</td>\n",
       "      <td>31.184669</td>\n",
       "      <td>1.0</td>\n",
       "    </tr>\n",
       "  </tbody>\n",
       "</table>\n",
       "</div>"
      ],
      "text/plain": [
       "                Club  Matches Played  Win  Loss  Drawn  Goals  Clean Sheets  \\\n",
       "1   Blackburn Rovers             696  262   250    184    927           210   \n",
       "12      Leeds United             574  223   202    149    784           179   \n",
       "\n",
       "   TeamLaunch  Winners  Runners-up  lastplayed_pl  Winning Rate  Loss Rate  \\\n",
       "1        1875      1.0           1           2012     37.643678  35.919540   \n",
       "12       1919      0.0           0           2023     38.850174  35.191638   \n",
       "\n",
       "    Drawn Rate  Clean Sheet Rate  Avg Goals Per Match  \n",
       "1    26.436782         30.172414                  1.0  \n",
       "12   25.958188         31.184669                  1.0  "
      ]
     },
     "execution_count": 44,
     "metadata": {},
     "output_type": "execute_result"
    }
   ],
   "source": [
    "# Winning Rate further analysis. Identify clubs with high winning rate\n",
    "\n",
    "# Calculate the interquartile range for the \"Winning Rate\" column\n",
    "Q1 = df['Winning Rate'].quantile(0.25)\n",
    "Q3 = df['Winning Rate'].quantile(0.75)\n",
    "IQR = Q3 - Q1\n",
    "\n",
    "# Calculate the upper boundaries for potential outliers <-- Expectional high winning rate compared to other teams\n",
    "upper_bound = Q3 + 1.5 * IQR\n",
    "\n",
    "# Identify the clubs with high winning rate \n",
    "highwinningrate = df[(df['Winning Rate'] > upper_bound)]\n",
    "highwinningrate"
   ]
  },
  {
   "cell_type": "markdown",
   "id": "04170608",
   "metadata": {},
   "source": [
    "Upon analyzing the data, we have found that two teams, Leeds United and Blackburn Rovers, have exceptionally high winning rates of 39% and 38% respectively."
   ]
  },
  {
   "cell_type": "code",
   "execution_count": 45,
   "id": "d0948046",
   "metadata": {
    "scrolled": true
   },
   "outputs": [
    {
     "data": {
      "text/html": [
       "<div>\n",
       "<style scoped>\n",
       "    .dataframe tbody tr th:only-of-type {\n",
       "        vertical-align: middle;\n",
       "    }\n",
       "\n",
       "    .dataframe tbody tr th {\n",
       "        vertical-align: top;\n",
       "    }\n",
       "\n",
       "    .dataframe thead th {\n",
       "        text-align: right;\n",
       "    }\n",
       "</style>\n",
       "<table border=\"1\" class=\"dataframe\">\n",
       "  <thead>\n",
       "    <tr style=\"text-align: right;\">\n",
       "      <th></th>\n",
       "      <th>Club</th>\n",
       "      <th>Matches Played</th>\n",
       "      <th>Win</th>\n",
       "      <th>Loss</th>\n",
       "      <th>Drawn</th>\n",
       "      <th>Goals</th>\n",
       "      <th>Clean Sheets</th>\n",
       "      <th>TeamLaunch</th>\n",
       "      <th>Winners</th>\n",
       "      <th>Runners-up</th>\n",
       "      <th>lastplayed_pl</th>\n",
       "      <th>Winning Rate</th>\n",
       "      <th>Loss Rate</th>\n",
       "      <th>Drawn Rate</th>\n",
       "      <th>Clean Sheet Rate</th>\n",
       "      <th>Avg Goals Per Match</th>\n",
       "    </tr>\n",
       "  </thead>\n",
       "  <tbody>\n",
       "    <tr>\n",
       "      <th>17</th>\n",
       "      <td>Hull City</td>\n",
       "      <td>190</td>\n",
       "      <td>41</td>\n",
       "      <td>101</td>\n",
       "      <td>48</td>\n",
       "      <td>181</td>\n",
       "      <td>58</td>\n",
       "      <td>1904</td>\n",
       "      <td>0.0</td>\n",
       "      <td>0</td>\n",
       "      <td>2017</td>\n",
       "      <td>21.578947</td>\n",
       "      <td>53.157895</td>\n",
       "      <td>25.263158</td>\n",
       "      <td>30.526316</td>\n",
       "      <td>1.0</td>\n",
       "    </tr>\n",
       "  </tbody>\n",
       "</table>\n",
       "</div>"
      ],
      "text/plain": [
       "         Club  Matches Played  Win  Loss  Drawn  Goals  Clean Sheets  \\\n",
       "17  Hull City             190   41   101     48    181            58   \n",
       "\n",
       "   TeamLaunch  Winners  Runners-up  lastplayed_pl  Winning Rate  Loss Rate  \\\n",
       "17       1904      0.0           0           2017     21.578947  53.157895   \n",
       "\n",
       "    Drawn Rate  Clean Sheet Rate  Avg Goals Per Match  \n",
       "17   25.263158         30.526316                  1.0  "
      ]
     },
     "execution_count": 45,
     "metadata": {},
     "output_type": "execute_result"
    }
   ],
   "source": [
    "# Winning Rate further analysis. Identify club with low winning rate\n",
    "\n",
    "# Calculate the lower boundaries for potential outliers <-- Low winning rate compared to other teams\n",
    "lower_bound = Q1 - 1.5 * IQR\n",
    "\n",
    "# Identify the clubs with lowest winning rate \n",
    "lowwinningrate = df[(df['Winning Rate'] < lower_bound)]\n",
    "lowwinningrate"
   ]
  },
  {
   "cell_type": "markdown",
   "id": "a646b177",
   "metadata": {},
   "source": [
    "Club is lowest winning rate of 22% is Hull City "
   ]
  },
  {
   "cell_type": "code",
   "execution_count": 46,
   "id": "167d704b",
   "metadata": {
    "scrolled": true
   },
   "outputs": [
    {
     "data": {
      "text/html": [
       "<div>\n",
       "<style scoped>\n",
       "    .dataframe tbody tr th:only-of-type {\n",
       "        vertical-align: middle;\n",
       "    }\n",
       "\n",
       "    .dataframe tbody tr th {\n",
       "        vertical-align: top;\n",
       "    }\n",
       "\n",
       "    .dataframe thead th {\n",
       "        text-align: right;\n",
       "    }\n",
       "</style>\n",
       "<table border=\"1\" class=\"dataframe\">\n",
       "  <thead>\n",
       "    <tr style=\"text-align: right;\">\n",
       "      <th></th>\n",
       "      <th>Club</th>\n",
       "      <th>Matches Played</th>\n",
       "      <th>Win</th>\n",
       "      <th>Loss</th>\n",
       "      <th>Drawn</th>\n",
       "      <th>Goals</th>\n",
       "      <th>Clean Sheets</th>\n",
       "      <th>TeamLaunch</th>\n",
       "      <th>Winners</th>\n",
       "      <th>Runners-up</th>\n",
       "      <th>lastplayed_pl</th>\n",
       "      <th>Winning Rate</th>\n",
       "      <th>Loss Rate</th>\n",
       "      <th>Drawn Rate</th>\n",
       "      <th>Clean Sheet Rate</th>\n",
       "      <th>Avg Goals Per Match</th>\n",
       "    </tr>\n",
       "  </thead>\n",
       "  <tbody>\n",
       "    <tr>\n",
       "      <th>4</th>\n",
       "      <td>Brighton &amp; Hove Albion</td>\n",
       "      <td>218</td>\n",
       "      <td>61</td>\n",
       "      <td>85</td>\n",
       "      <td>72</td>\n",
       "      <td>243</td>\n",
       "      <td>58</td>\n",
       "      <td>1901</td>\n",
       "      <td>0.0</td>\n",
       "      <td>0</td>\n",
       "      <td>2023</td>\n",
       "      <td>27.981651</td>\n",
       "      <td>38.990826</td>\n",
       "      <td>33.027523</td>\n",
       "      <td>26.605505</td>\n",
       "      <td>1.0</td>\n",
       "    </tr>\n",
       "  </tbody>\n",
       "</table>\n",
       "</div>"
      ],
      "text/plain": [
       "                     Club  Matches Played  Win  Loss  Drawn  Goals  \\\n",
       "4  Brighton & Hove Albion             218   61    85     72    243   \n",
       "\n",
       "   Clean Sheets TeamLaunch  Winners  Runners-up  lastplayed_pl  Winning Rate  \\\n",
       "4            58       1901      0.0           0           2023     27.981651   \n",
       "\n",
       "   Loss Rate  Drawn Rate  Clean Sheet Rate  Avg Goals Per Match  \n",
       "4  38.990826   33.027523         26.605505                  1.0  "
      ]
     },
     "execution_count": 46,
     "metadata": {},
     "output_type": "execute_result"
    }
   ],
   "source": [
    "# Drawn Rate further analysis. Identify club with high drawn rate\n",
    "# Calculate the interquartile range for the \"Drawn Rate\" column\n",
    "Q1 = df['Drawn Rate'].quantile(0.25)\n",
    "Q3 = df['Drawn Rate'].quantile(0.75)\n",
    "IQR = Q3 - Q1\n",
    "\n",
    "# Calculate the upper boundaries for potential outliers <-- Expectional high winning rate compared to other teams\n",
    "upper_bound = Q3 + 1.5 * IQR\n",
    "\n",
    "# Identify the clubs with high drawn rate \n",
    "highdrawnrate = df[(df['Drawn Rate'] > upper_bound)]\n",
    "highdrawnrate"
   ]
  },
  {
   "cell_type": "markdown",
   "id": "b0abc9a6",
   "metadata": {},
   "source": [
    "Brighton & Hove Albion is expectionally high Drawn Rate of 33%"
   ]
  },
  {
   "cell_type": "code",
   "execution_count": 47,
   "id": "4076a1ff",
   "metadata": {},
   "outputs": [
    {
     "data": {
      "text/plain": [
       "count    29.0\n",
       "mean      1.0\n",
       "std       0.0\n",
       "min       1.0\n",
       "25%       1.0\n",
       "50%       1.0\n",
       "75%       1.0\n",
       "max       1.0\n",
       "Name: Avg Goals Per Match, dtype: float64"
      ]
     },
     "execution_count": 47,
     "metadata": {},
     "output_type": "execute_result"
    }
   ],
   "source": [
    "# Now let us explore 'Avg Goals Per Match' column\n",
    "df['Avg Goals Per Match'].describe()"
   ]
  },
  {
   "cell_type": "markdown",
   "id": "f742a594",
   "metadata": {},
   "source": [
    "As you can see we can't infer much from this metric. Therefore we will not use it for further analysis."
   ]
  },
  {
   "cell_type": "code",
   "execution_count": 48,
   "id": "592c1397",
   "metadata": {},
   "outputs": [
    {
     "data": {
      "text/plain": [
       "0.0    27\n",
       "1.0     2\n",
       "Name: Winners, dtype: int64"
      ]
     },
     "execution_count": 48,
     "metadata": {},
     "output_type": "execute_result"
    }
   ],
   "source": [
    "# Let us explore columns 'Winners' and 'Runners-up'\n",
    "\n",
    "df['Winners'].value_counts()"
   ]
  },
  {
   "cell_type": "code",
   "execution_count": 49,
   "id": "78a8c6e9",
   "metadata": {},
   "outputs": [
    {
     "data": {
      "text/plain": [
       "0    28\n",
       "1     1\n",
       "Name: Runners-up, dtype: Int64"
      ]
     },
     "execution_count": 49,
     "metadata": {},
     "output_type": "execute_result"
    }
   ],
   "source": [
    "df['Runners-up'].value_counts()"
   ]
  },
  {
   "cell_type": "markdown",
   "id": "432b40c6",
   "metadata": {},
   "source": [
    "We observe that out of the 29 clubs, only 2 clubs have won the Premier League, and one club has been a runner-up. Let us identify these clubs"
   ]
  },
  {
   "cell_type": "code",
   "execution_count": 50,
   "id": "445f65aa",
   "metadata": {
    "scrolled": true
   },
   "outputs": [
    {
     "data": {
      "text/html": [
       "<div>\n",
       "<style scoped>\n",
       "    .dataframe tbody tr th:only-of-type {\n",
       "        vertical-align: middle;\n",
       "    }\n",
       "\n",
       "    .dataframe tbody tr th {\n",
       "        vertical-align: top;\n",
       "    }\n",
       "\n",
       "    .dataframe thead th {\n",
       "        text-align: right;\n",
       "    }\n",
       "</style>\n",
       "<table border=\"1\" class=\"dataframe\">\n",
       "  <thead>\n",
       "    <tr style=\"text-align: right;\">\n",
       "      <th></th>\n",
       "      <th>Club</th>\n",
       "      <th>Matches Played</th>\n",
       "      <th>Win</th>\n",
       "      <th>Loss</th>\n",
       "      <th>Drawn</th>\n",
       "      <th>Goals</th>\n",
       "      <th>Clean Sheets</th>\n",
       "      <th>TeamLaunch</th>\n",
       "      <th>Winners</th>\n",
       "      <th>Runners-up</th>\n",
       "      <th>lastplayed_pl</th>\n",
       "      <th>Winning Rate</th>\n",
       "      <th>Loss Rate</th>\n",
       "      <th>Drawn Rate</th>\n",
       "      <th>Clean Sheet Rate</th>\n",
       "      <th>Avg Goals Per Match</th>\n",
       "    </tr>\n",
       "  </thead>\n",
       "  <tbody>\n",
       "    <tr>\n",
       "      <th>1</th>\n",
       "      <td>Blackburn Rovers</td>\n",
       "      <td>696</td>\n",
       "      <td>262</td>\n",
       "      <td>250</td>\n",
       "      <td>184</td>\n",
       "      <td>927</td>\n",
       "      <td>210</td>\n",
       "      <td>1875</td>\n",
       "      <td>1.0</td>\n",
       "      <td>1</td>\n",
       "      <td>2012</td>\n",
       "      <td>37.643678</td>\n",
       "      <td>35.919540</td>\n",
       "      <td>26.436782</td>\n",
       "      <td>30.172414</td>\n",
       "      <td>1.0</td>\n",
       "    </tr>\n",
       "    <tr>\n",
       "      <th>13</th>\n",
       "      <td>Leicester City</td>\n",
       "      <td>642</td>\n",
       "      <td>216</td>\n",
       "      <td>262</td>\n",
       "      <td>164</td>\n",
       "      <td>860</td>\n",
       "      <td>167</td>\n",
       "      <td>1884</td>\n",
       "      <td>1.0</td>\n",
       "      <td>0</td>\n",
       "      <td>2023</td>\n",
       "      <td>33.644860</td>\n",
       "      <td>40.809969</td>\n",
       "      <td>25.545171</td>\n",
       "      <td>26.012461</td>\n",
       "      <td>1.0</td>\n",
       "    </tr>\n",
       "  </tbody>\n",
       "</table>\n",
       "</div>"
      ],
      "text/plain": [
       "                Club  Matches Played  Win  Loss  Drawn  Goals  Clean Sheets  \\\n",
       "1   Blackburn Rovers             696  262   250    184    927           210   \n",
       "13    Leicester City             642  216   262    164    860           167   \n",
       "\n",
       "   TeamLaunch  Winners  Runners-up  lastplayed_pl  Winning Rate  Loss Rate  \\\n",
       "1        1875      1.0           1           2012     37.643678  35.919540   \n",
       "13       1884      1.0           0           2023     33.644860  40.809969   \n",
       "\n",
       "    Drawn Rate  Clean Sheet Rate  Avg Goals Per Match  \n",
       "1    26.436782         30.172414                  1.0  \n",
       "13   25.545171         26.012461                  1.0  "
      ]
     },
     "execution_count": 50,
     "metadata": {},
     "output_type": "execute_result"
    }
   ],
   "source": [
    "df[(df['Winners']>=1) | (df['Runners-up']>=1)]"
   ]
  },
  {
   "cell_type": "markdown",
   "id": "a683e0e1",
   "metadata": {},
   "source": [
    "Blackburn Rovers have won Premier League once and been an Runners-up once and Leicester City has won Premier League once."
   ]
  },
  {
   "cell_type": "code",
   "execution_count": 51,
   "id": "0500c41d",
   "metadata": {},
   "outputs": [
    {
     "data": {
      "text/plain": [
       "count     29.000000\n",
       "mean     372.482759\n",
       "std      153.533296\n",
       "min      190.000000\n",
       "25%      266.000000\n",
       "50%      305.000000\n",
       "75%      494.000000\n",
       "max      696.000000\n",
       "Name: Matches Played, dtype: float64"
      ]
     },
     "execution_count": 51,
     "metadata": {},
     "output_type": "execute_result"
    }
   ],
   "source": [
    "# Lets us again analyse Matches Played Column for our reduced dataframe (29 clubs).\n",
    "\n",
    "df['Matches Played'].describe()"
   ]
  },
  {
   "cell_type": "markdown",
   "id": "70140a57",
   "metadata": {},
   "source": [
    "Average matches played are 372."
   ]
  },
  {
   "cell_type": "code",
   "execution_count": 52,
   "id": "9c807d9c",
   "metadata": {},
   "outputs": [
    {
     "data": {
      "text/plain": [
       "2023    8\n",
       "2017    3\n",
       "2018    3\n",
       "2022    3\n",
       "2012    2\n",
       "2021    1\n",
       "2000    1\n",
       "2001    1\n",
       "2002    1\n",
       "2007    1\n",
       "2008    1\n",
       "2010    1\n",
       "2011    1\n",
       "2013    1\n",
       "2015    1\n",
       "Name: lastplayed_pl, dtype: int64"
      ]
     },
     "execution_count": 52,
     "metadata": {},
     "output_type": "execute_result"
    }
   ],
   "source": [
    "# Let us look at \"lastplayed_pl\" column\n",
    "df['lastplayed_pl'].value_counts()"
   ]
  },
  {
   "cell_type": "markdown",
   "id": "968b6acc",
   "metadata": {},
   "source": [
    "Out of the total 29 teams, eight are currently playing in the Premier League. Since these teams are currently active in the league, it makes sense to prioritize them in our analysis. However, there are also teams that date back as early as 2000. It may be appropriate to assign these teams less weight."
   ]
  },
  {
   "cell_type": "code",
   "execution_count": 53,
   "id": "aa93e9f7",
   "metadata": {},
   "outputs": [
    {
     "data": {
      "text/plain": [
       "3                 Bournemouth\n",
       "4      Brighton & Hove Albion\n",
       "8              Crystal Palace\n",
       "10                     Fulham\n",
       "12               Leeds United\n",
       "13             Leicester City\n",
       "16          Nottingham Forest\n",
       "27    Wolverhampton Wanderers\n",
       "Name: Club, dtype: object"
      ]
     },
     "execution_count": 53,
     "metadata": {},
     "output_type": "execute_result"
    }
   ],
   "source": [
    "# Let us check the eight teams that are currently playing in the Premier League\n",
    "\n",
    "df[df['lastplayed_pl']==2023]['Club']"
   ]
  },
  {
   "cell_type": "markdown",
   "id": "7dd71745",
   "metadata": {},
   "source": [
    "Giving more priority to teams that have more recent experience playing in the Premier League is ideal. When making the final decision, we will assign higher weight to teams that have played more recently, and lesser weight to those that have not played recently."
   ]
  },
  {
   "cell_type": "markdown",
   "id": "c8409d40",
   "metadata": {},
   "source": [
    "### Final Recommendations Framework"
   ]
  },
  {
   "cell_type": "markdown",
   "id": "5f7e94f5",
   "metadata": {},
   "source": [
    "Let's create a plan to Score each team on the pre defined metric.\n",
    "\n",
    "* Give a score of 10 if club have a relatively high experience in the Premier League above average (372)\n",
    "* Give a score of 15 if club has winning rate above Q3\n",
    "* Give a score of 15 if club has lossing rate below Q1\n",
    "* Give a score of 10 if club drawn rate below Q1 and losing rate is below Q1\n",
    "* Give a score of 10 if club has clean sheet above Q3 and winning rate is above Q3\n",
    "* Give a score of 15 if club has won premier league\n",
    "* Give a score of 10 if club has been a runners-up in premier league\n",
    "* Give a score of 15 if club has been currently playing in premier league"
   ]
  },
  {
   "cell_type": "code",
   "execution_count": 54,
   "id": "f6db005f",
   "metadata": {},
   "outputs": [],
   "source": [
    "# Calculate the upper bound for the \"Winning Rate\" column\n",
    "upper_bound_WinningRate = df['Winning Rate'].quantile(0.75)\n",
    "\n",
    "# Calculate the lower bound for the \"Loss Rate\" column\n",
    "lower_bound_LosingRate = df['Loss Rate'].quantile(0.25)\n",
    "\n",
    "# Calculate the lower bound for the \"Drawn Rate\" column\n",
    "lower_bound_DrawnRate = df['Drawn Rate'].quantile(0.25)\n",
    "\n",
    "# Calculate the upper bound for the \"Drawn Rate\" column\n",
    "upper_bound_CleanSheetRate = df['Clean Sheet Rate'].quantile(0.75)"
   ]
  },
  {
   "cell_type": "code",
   "execution_count": 55,
   "id": "b5a8c3e5",
   "metadata": {},
   "outputs": [
    {
     "data": {
      "text/plain": [
       "29"
      ]
     },
     "execution_count": 55,
     "metadata": {},
     "output_type": "execute_result"
    }
   ],
   "source": [
    "len(df)"
   ]
  },
  {
   "cell_type": "code",
   "execution_count": 56,
   "id": "f10e3bb2",
   "metadata": {},
   "outputs": [],
   "source": [
    "df['scores']=np.zeros(len(df))"
   ]
  },
  {
   "cell_type": "code",
   "execution_count": 57,
   "id": "fd808c51",
   "metadata": {},
   "outputs": [
    {
     "data": {
      "text/html": [
       "<div>\n",
       "<style scoped>\n",
       "    .dataframe tbody tr th:only-of-type {\n",
       "        vertical-align: middle;\n",
       "    }\n",
       "\n",
       "    .dataframe tbody tr th {\n",
       "        vertical-align: top;\n",
       "    }\n",
       "\n",
       "    .dataframe thead th {\n",
       "        text-align: right;\n",
       "    }\n",
       "</style>\n",
       "<table border=\"1\" class=\"dataframe\">\n",
       "  <thead>\n",
       "    <tr style=\"text-align: right;\">\n",
       "      <th></th>\n",
       "      <th>Club</th>\n",
       "      <th>Matches Played</th>\n",
       "      <th>Win</th>\n",
       "      <th>Loss</th>\n",
       "      <th>Drawn</th>\n",
       "      <th>Goals</th>\n",
       "      <th>Clean Sheets</th>\n",
       "      <th>TeamLaunch</th>\n",
       "      <th>Winners</th>\n",
       "      <th>Runners-up</th>\n",
       "      <th>lastplayed_pl</th>\n",
       "      <th>Winning Rate</th>\n",
       "      <th>Loss Rate</th>\n",
       "      <th>Drawn Rate</th>\n",
       "      <th>Clean Sheet Rate</th>\n",
       "      <th>Avg Goals Per Match</th>\n",
       "      <th>scores</th>\n",
       "    </tr>\n",
       "  </thead>\n",
       "  <tbody>\n",
       "    <tr>\n",
       "      <th>0</th>\n",
       "      <td>Birmingham City</td>\n",
       "      <td>266</td>\n",
       "      <td>73</td>\n",
       "      <td>111</td>\n",
       "      <td>82</td>\n",
       "      <td>273</td>\n",
       "      <td>66</td>\n",
       "      <td>1875</td>\n",
       "      <td>0.0</td>\n",
       "      <td>0</td>\n",
       "      <td>2011</td>\n",
       "      <td>27.443609</td>\n",
       "      <td>41.729323</td>\n",
       "      <td>30.827068</td>\n",
       "      <td>24.812030</td>\n",
       "      <td>1.0</td>\n",
       "      <td>0.0</td>\n",
       "    </tr>\n",
       "    <tr>\n",
       "      <th>1</th>\n",
       "      <td>Blackburn Rovers</td>\n",
       "      <td>696</td>\n",
       "      <td>262</td>\n",
       "      <td>250</td>\n",
       "      <td>184</td>\n",
       "      <td>927</td>\n",
       "      <td>210</td>\n",
       "      <td>1875</td>\n",
       "      <td>1.0</td>\n",
       "      <td>1</td>\n",
       "      <td>2012</td>\n",
       "      <td>37.643678</td>\n",
       "      <td>35.919540</td>\n",
       "      <td>26.436782</td>\n",
       "      <td>30.172414</td>\n",
       "      <td>1.0</td>\n",
       "      <td>0.0</td>\n",
       "    </tr>\n",
       "    <tr>\n",
       "      <th>2</th>\n",
       "      <td>Bolton Wanderers</td>\n",
       "      <td>494</td>\n",
       "      <td>149</td>\n",
       "      <td>217</td>\n",
       "      <td>128</td>\n",
       "      <td>575</td>\n",
       "      <td>108</td>\n",
       "      <td>1874</td>\n",
       "      <td>0.0</td>\n",
       "      <td>0</td>\n",
       "      <td>2012</td>\n",
       "      <td>30.161943</td>\n",
       "      <td>43.927126</td>\n",
       "      <td>25.910931</td>\n",
       "      <td>21.862348</td>\n",
       "      <td>1.0</td>\n",
       "      <td>0.0</td>\n",
       "    </tr>\n",
       "    <tr>\n",
       "      <th>3</th>\n",
       "      <td>Bournemouth</td>\n",
       "      <td>219</td>\n",
       "      <td>64</td>\n",
       "      <td>107</td>\n",
       "      <td>48</td>\n",
       "      <td>269</td>\n",
       "      <td>45</td>\n",
       "      <td>1899</td>\n",
       "      <td>0.0</td>\n",
       "      <td>0</td>\n",
       "      <td>2023</td>\n",
       "      <td>29.223744</td>\n",
       "      <td>48.858447</td>\n",
       "      <td>21.917808</td>\n",
       "      <td>20.547945</td>\n",
       "      <td>1.0</td>\n",
       "      <td>0.0</td>\n",
       "    </tr>\n",
       "    <tr>\n",
       "      <th>4</th>\n",
       "      <td>Brighton &amp; Hove Albion</td>\n",
       "      <td>218</td>\n",
       "      <td>61</td>\n",
       "      <td>85</td>\n",
       "      <td>72</td>\n",
       "      <td>243</td>\n",
       "      <td>58</td>\n",
       "      <td>1901</td>\n",
       "      <td>0.0</td>\n",
       "      <td>0</td>\n",
       "      <td>2023</td>\n",
       "      <td>27.981651</td>\n",
       "      <td>38.990826</td>\n",
       "      <td>33.027523</td>\n",
       "      <td>26.605505</td>\n",
       "      <td>1.0</td>\n",
       "      <td>0.0</td>\n",
       "    </tr>\n",
       "  </tbody>\n",
       "</table>\n",
       "</div>"
      ],
      "text/plain": [
       "                     Club  Matches Played  Win  Loss  Drawn  Goals  \\\n",
       "0         Birmingham City             266   73   111     82    273   \n",
       "1        Blackburn Rovers             696  262   250    184    927   \n",
       "2        Bolton Wanderers             494  149   217    128    575   \n",
       "3             Bournemouth             219   64   107     48    269   \n",
       "4  Brighton & Hove Albion             218   61    85     72    243   \n",
       "\n",
       "   Clean Sheets TeamLaunch  Winners  Runners-up  lastplayed_pl  Winning Rate  \\\n",
       "0            66       1875      0.0           0           2011     27.443609   \n",
       "1           210       1875      1.0           1           2012     37.643678   \n",
       "2           108       1874      0.0           0           2012     30.161943   \n",
       "3            45       1899      0.0           0           2023     29.223744   \n",
       "4            58       1901      0.0           0           2023     27.981651   \n",
       "\n",
       "   Loss Rate  Drawn Rate  Clean Sheet Rate  Avg Goals Per Match  scores  \n",
       "0  41.729323   30.827068         24.812030                  1.0     0.0  \n",
       "1  35.919540   26.436782         30.172414                  1.0     0.0  \n",
       "2  43.927126   25.910931         21.862348                  1.0     0.0  \n",
       "3  48.858447   21.917808         20.547945                  1.0     0.0  \n",
       "4  38.990826   33.027523         26.605505                  1.0     0.0  "
      ]
     },
     "execution_count": 57,
     "metadata": {},
     "output_type": "execute_result"
    }
   ],
   "source": [
    "df.head()"
   ]
  },
  {
   "cell_type": "code",
   "execution_count": 58,
   "id": "6246e7ef",
   "metadata": {},
   "outputs": [],
   "source": [
    "df.loc[df['Matches Played'] >= 372, 'scores'] += 10\n",
    "df.loc[df['Winning Rate'] >= upper_bound_WinningRate, 'scores'] += 15\n",
    "df.loc[df['Loss Rate'] <= lower_bound_LosingRate, 'scores'] += 15\n",
    "df.loc[(df['Drawn Rate'] <= lower_bound_DrawnRate) & (df['Loss Rate'] <= lower_bound_LosingRate), 'scores'] += 10\n",
    "df.loc[(df['Clean Sheet Rate'] >= upper_bound_CleanSheetRate) & (df['Winning Rate'] >= upper_bound_WinningRate), 'scores'] += 10\n",
    "df.loc[df['Winners'] == 1, 'scores'] += 15\n",
    "df.loc[df['Runners-up'] == 1, 'scores'] += 10\n",
    "df.loc[df['lastplayed_pl'] == 2023, 'scores'] += 15"
   ]
  },
  {
   "cell_type": "code",
   "execution_count": 59,
   "id": "16029b86",
   "metadata": {},
   "outputs": [
    {
     "data": {
      "text/html": [
       "<div>\n",
       "<style scoped>\n",
       "    .dataframe tbody tr th:only-of-type {\n",
       "        vertical-align: middle;\n",
       "    }\n",
       "\n",
       "    .dataframe tbody tr th {\n",
       "        vertical-align: top;\n",
       "    }\n",
       "\n",
       "    .dataframe thead th {\n",
       "        text-align: right;\n",
       "    }\n",
       "</style>\n",
       "<table border=\"1\" class=\"dataframe\">\n",
       "  <thead>\n",
       "    <tr style=\"text-align: right;\">\n",
       "      <th></th>\n",
       "      <th>Club</th>\n",
       "      <th>Matches Played</th>\n",
       "      <th>Win</th>\n",
       "      <th>Loss</th>\n",
       "      <th>Drawn</th>\n",
       "      <th>Goals</th>\n",
       "      <th>Clean Sheets</th>\n",
       "      <th>TeamLaunch</th>\n",
       "      <th>Winners</th>\n",
       "      <th>Runners-up</th>\n",
       "      <th>lastplayed_pl</th>\n",
       "      <th>Winning Rate</th>\n",
       "      <th>Loss Rate</th>\n",
       "      <th>Drawn Rate</th>\n",
       "      <th>Clean Sheet Rate</th>\n",
       "      <th>Avg Goals Per Match</th>\n",
       "      <th>scores</th>\n",
       "    </tr>\n",
       "  </thead>\n",
       "  <tbody>\n",
       "    <tr>\n",
       "      <th>0</th>\n",
       "      <td>Birmingham City</td>\n",
       "      <td>266</td>\n",
       "      <td>73</td>\n",
       "      <td>111</td>\n",
       "      <td>82</td>\n",
       "      <td>273</td>\n",
       "      <td>66</td>\n",
       "      <td>1875</td>\n",
       "      <td>0.0</td>\n",
       "      <td>0</td>\n",
       "      <td>2011</td>\n",
       "      <td>27.443609</td>\n",
       "      <td>41.729323</td>\n",
       "      <td>30.827068</td>\n",
       "      <td>24.812030</td>\n",
       "      <td>1.0</td>\n",
       "      <td>0.0</td>\n",
       "    </tr>\n",
       "    <tr>\n",
       "      <th>1</th>\n",
       "      <td>Blackburn Rovers</td>\n",
       "      <td>696</td>\n",
       "      <td>262</td>\n",
       "      <td>250</td>\n",
       "      <td>184</td>\n",
       "      <td>927</td>\n",
       "      <td>210</td>\n",
       "      <td>1875</td>\n",
       "      <td>1.0</td>\n",
       "      <td>1</td>\n",
       "      <td>2012</td>\n",
       "      <td>37.643678</td>\n",
       "      <td>35.919540</td>\n",
       "      <td>26.436782</td>\n",
       "      <td>30.172414</td>\n",
       "      <td>1.0</td>\n",
       "      <td>75.0</td>\n",
       "    </tr>\n",
       "    <tr>\n",
       "      <th>2</th>\n",
       "      <td>Bolton Wanderers</td>\n",
       "      <td>494</td>\n",
       "      <td>149</td>\n",
       "      <td>217</td>\n",
       "      <td>128</td>\n",
       "      <td>575</td>\n",
       "      <td>108</td>\n",
       "      <td>1874</td>\n",
       "      <td>0.0</td>\n",
       "      <td>0</td>\n",
       "      <td>2012</td>\n",
       "      <td>30.161943</td>\n",
       "      <td>43.927126</td>\n",
       "      <td>25.910931</td>\n",
       "      <td>21.862348</td>\n",
       "      <td>1.0</td>\n",
       "      <td>25.0</td>\n",
       "    </tr>\n",
       "    <tr>\n",
       "      <th>3</th>\n",
       "      <td>Bournemouth</td>\n",
       "      <td>219</td>\n",
       "      <td>64</td>\n",
       "      <td>107</td>\n",
       "      <td>48</td>\n",
       "      <td>269</td>\n",
       "      <td>45</td>\n",
       "      <td>1899</td>\n",
       "      <td>0.0</td>\n",
       "      <td>0</td>\n",
       "      <td>2023</td>\n",
       "      <td>29.223744</td>\n",
       "      <td>48.858447</td>\n",
       "      <td>21.917808</td>\n",
       "      <td>20.547945</td>\n",
       "      <td>1.0</td>\n",
       "      <td>15.0</td>\n",
       "    </tr>\n",
       "    <tr>\n",
       "      <th>4</th>\n",
       "      <td>Brighton &amp; Hove Albion</td>\n",
       "      <td>218</td>\n",
       "      <td>61</td>\n",
       "      <td>85</td>\n",
       "      <td>72</td>\n",
       "      <td>243</td>\n",
       "      <td>58</td>\n",
       "      <td>1901</td>\n",
       "      <td>0.0</td>\n",
       "      <td>0</td>\n",
       "      <td>2023</td>\n",
       "      <td>27.981651</td>\n",
       "      <td>38.990826</td>\n",
       "      <td>33.027523</td>\n",
       "      <td>26.605505</td>\n",
       "      <td>1.0</td>\n",
       "      <td>30.0</td>\n",
       "    </tr>\n",
       "  </tbody>\n",
       "</table>\n",
       "</div>"
      ],
      "text/plain": [
       "                     Club  Matches Played  Win  Loss  Drawn  Goals  \\\n",
       "0         Birmingham City             266   73   111     82    273   \n",
       "1        Blackburn Rovers             696  262   250    184    927   \n",
       "2        Bolton Wanderers             494  149   217    128    575   \n",
       "3             Bournemouth             219   64   107     48    269   \n",
       "4  Brighton & Hove Albion             218   61    85     72    243   \n",
       "\n",
       "   Clean Sheets TeamLaunch  Winners  Runners-up  lastplayed_pl  Winning Rate  \\\n",
       "0            66       1875      0.0           0           2011     27.443609   \n",
       "1           210       1875      1.0           1           2012     37.643678   \n",
       "2           108       1874      0.0           0           2012     30.161943   \n",
       "3            45       1899      0.0           0           2023     29.223744   \n",
       "4            58       1901      0.0           0           2023     27.981651   \n",
       "\n",
       "   Loss Rate  Drawn Rate  Clean Sheet Rate  Avg Goals Per Match  scores  \n",
       "0  41.729323   30.827068         24.812030                  1.0     0.0  \n",
       "1  35.919540   26.436782         30.172414                  1.0    75.0  \n",
       "2  43.927126   25.910931         21.862348                  1.0    25.0  \n",
       "3  48.858447   21.917808         20.547945                  1.0    15.0  \n",
       "4  38.990826   33.027523         26.605505                  1.0    30.0  "
      ]
     },
     "execution_count": 59,
     "metadata": {},
     "output_type": "execute_result"
    }
   ],
   "source": [
    "df.head()"
   ]
  },
  {
   "cell_type": "code",
   "execution_count": 60,
   "id": "c3f6e19e",
   "metadata": {},
   "outputs": [
    {
     "data": {
      "image/png": "[encoded data removed]",
      "text/plain": [
       "<Figure size 1800x720 with 1 Axes>"
      ]
     },
     "metadata": {
      "needs_background": "light"
     },
     "output_type": "display_data"
    }
   ],
   "source": [
    "# sort the DataFrame by score in descending order\n",
    "df_sort = df.sort_values(by='scores', ascending=False)\n",
    "\n",
    "# create a bar chart of team scores\n",
    "plt.figure(figsize=(25,10))\n",
    "plt.bar(df_sort['Club'], df_sort['scores'], color='blue')\n",
    "\n",
    "# add labels and title to the chart\n",
    "plt.ylabel('Scores', fontsize=16)\n",
    "plt.title('Football Club v/s performance score', fontsize=18)\n",
    "\n",
    "# add legend to explain the blue bars\n",
    "plt.legend(['Scores'], fontsize=14)\n",
    "\n",
    "# rotate the team names on the x-axis for readability\n",
    "plt.xticks(rotation=90, fontsize=14)\n",
    "plt.yticks(fontsize=14)\n",
    "\n",
    "# set the y-axis limit to start from 0 and end at 100\n",
    "plt.ylim(0, 100)\n",
    "\n",
    "# display the chart\n",
    "plt.savefig('EDA_Bar.jpg',bbox_inches='tight',dpi=150)\n",
    "plt.show()\n",
    "\n"
   ]
  },
  {
   "cell_type": "markdown",
   "id": "a0380106",
   "metadata": {},
   "source": [
    "**Based on the above chart, Blackburn Rovers has the highest score basis our analysis and next best Leicester City**"
   ]
  },
  {
   "cell_type": "markdown",
   "id": "4c50cf92",
   "metadata": {},
   "source": [
    "To ensure a thorough evaluation of football club performance we must consider clubs current form.\n",
    "\n",
    "Let us check the score of those clubs that have played in the last three years. Specifically, suggest including clubs that have played in 2023, as well as those that last played in 2022 and 2021. \n",
    "\n",
    "This approach allows us to pinpoint those clubs that are currently in good form and have consistently performed well over the past few years."
   ]
  },
  {
   "cell_type": "code",
   "execution_count": 61,
   "id": "d4a04267",
   "metadata": {},
   "outputs": [
    {
     "data": {
      "image/png": "[encoded data removed]",
      "text/plain": [
       "<Figure size 1800x720 with 1 Axes>"
      ]
     },
     "metadata": {
      "needs_background": "light"
     },
     "output_type": "display_data"
    }
   ],
   "source": [
    "# sort the DataFrame by score in descending order\n",
    "df_sort = df[(df['lastplayed_pl']==2023) | (df['lastplayed_pl']==2022) | (df['lastplayed_pl']==2021)].sort_values(by='scores', ascending=False)\n",
    "\n",
    "# create a bar chart of team scores\n",
    "plt.figure(figsize=(25,10))\n",
    "plt.bar(df_sort['Club'], df_sort['scores'], color='blue')\n",
    "\n",
    "# add labels and title to the chart\n",
    "plt.ylabel('Scores', fontsize=16)\n",
    "plt.title('Football Club v/s performance score', fontsize=18)\n",
    "\n",
    "# add legend to explain the blue bars\n",
    "plt.legend(['Scores'], fontsize=14)\n",
    "\n",
    "# rotate the team names on the x-axis for readability\n",
    "plt.xticks(rotation=90, fontsize=14)\n",
    "plt.yticks(fontsize=14)\n",
    "\n",
    "# set the y-axis limit to start from 0 and end at 100\n",
    "plt.ylim(0, 100)\n",
    "\n",
    "# display the chart\n",
    "\n",
    "plt.savefig('EDA_Bar2.jpg',bbox_inches='tight',dpi=150)\n",
    "plt.show()\n"
   ]
  },
  {
   "cell_type": "markdown",
   "id": "4c135e43",
   "metadata": {},
   "source": [
    "Upon closer examination of the list, we can observe that our current leader, Blackburn Rovers, is not included. To gain a better understanding of their performance, it's necessary to investigate further and determine the last year in which Blackburn Rovers played. This information will provide crucial context to our analysis and enable us to assess their recent form accurately. "
   ]
  },
  {
   "cell_type": "code",
   "execution_count": 62,
   "id": "0f1c4b65",
   "metadata": {},
   "outputs": [
    {
     "data": {
      "text/plain": [
       "1    2012\n",
       "Name: lastplayed_pl, dtype: int64"
      ]
     },
     "execution_count": 62,
     "metadata": {},
     "output_type": "execute_result"
    }
   ],
   "source": [
    "df[df['Club']=='Blackburn Rovers']['lastplayed_pl']"
   ]
  },
  {
   "cell_type": "markdown",
   "id": "d5015126",
   "metadata": {},
   "source": [
    "Blackburn Rovers last played in the tournament in 2012, which was quite some time ago. Given this information, we recommend that stakeholders consider investing in Leicester City instead. We believe that Leicester City's recent form and performance make them a better choice for investment.\n",
    "\n",
    "To support our claim, we will conduct further secondary research to provide additional evidence of Leicester City's current form and potential for success"
   ]
  },
  {
   "cell_type": "markdown",
   "id": "f18937f9",
   "metadata": {},
   "source": [
    "According to my research, Blackburn Rovers were relegated to the Championship league in 2012 i.e., league below Premier League and later to League One in 2017 i.e., league below Championship league. However, they were promoted back to the Championship in 2018 and have since finished in the middle of the table in recent years. Given their inconsistent performance and lack of presence in the Premier League since 2012, it would be inappropriate to recommend this club for investment.\n",
    "\n",
    "On the other hand, Leicester City, the 2016 Premier League champions, have consistently finished in the top 10 in recent years. They placed 5th in both the 2019-2020 and 2020-2021 seasons and finished 8th in 2021-2022. With sufficient financial backing, Leicester City has the potential to achieve even greater success in the near future. Therefore, it would be reasonable to recommend Leicester City to our clients.\n",
    "\n",
    "*Source 1: https://www.transfermarkt.co.in/blackburn-rovers/platzierungen/verein/164*\n",
    "\n",
    "*Source 2: https://www.transfermarkt.co.in/leicester-city/platzierungen/verein/1003*"
   ]
  },
  {
   "cell_type": "markdown",
   "id": "6626b521",
   "metadata": {},
   "source": [
    "## I recommend investing in Leicester City based on my analysis"
   ]
  }
 ],
 "metadata": {
  "kernelspec": {
   "display_name": "Python 3",
   "language": "python",
   "name": "python3"
  },
  "language_info": {
   "codemirror_mode": {
    "name": "ipython",
    "version": 3
   },
   "file_extension": ".py",
   "mimetype": "text/x-python",
   "name": "python",
   "nbconvert_exporter": "python",
   "pygments_lexer": "ipython3",
   "version": "3.8.8"
  }
 },
 "nbformat": 4,
 "nbformat_minor": 5
}
